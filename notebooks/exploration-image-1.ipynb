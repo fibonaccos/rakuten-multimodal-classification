{
 "cells": [
  {
   "cell_type": "markdown",
   "id": "cac2e54a",
   "metadata": {},
   "source": [
    "# Exploration of the pictures dataset\n",
    "\n",
    "Dans ce premier notebook sur l'exploration du dataset d'images, on va étudier les principales caractéristiques de ce dernier : valeurs manquantes, qualité des images, taille, etc.\n"
   ]
  },
  {
   "cell_type": "markdown",
   "id": "18e5e73a",
   "metadata": {},
   "source": []
  }
 ],
 "metadata": {
  "language_info": {
   "name": "python"
  }
 },
 "nbformat": 4,
 "nbformat_minor": 5
}
