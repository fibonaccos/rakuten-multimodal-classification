{
 "cells": [
  {
   "cell_type": "markdown",
   "id": "cac2e54a",
   "metadata": {},
   "source": [
    "# Exploration of the pictures dataset\n",
    "\n",
    "Dans ce notebook sur l'exploration du dataset d'images d'entraînement, on va étudier les principales caractéristiques de ce dernier : valeurs manquantes, qualité des images, taille, etc.\n"
   ]
  },
  {
   "cell_type": "code",
   "execution_count": 1,
   "id": "ee0abbe4",
   "metadata": {},
   "outputs": [],
   "source": [
    "from pathlib import Path\n",
    "from typing import Literal\n",
    "import concurrent\n",
    "import pandas as pd\n",
    "import matplotlib.pyplot as plt\n",
    "import seaborn as sns\n",
    "import cv2\n",
    "import numpy as np\n"
   ]
  },
  {
   "cell_type": "markdown",
   "id": "dcb71962",
   "metadata": {},
   "source": [
    "# 1 - Build dataframe from basic image features\n",
    "\n",
    "Comme les images sont incluses dans un dossier, on n'a pas directement de structure sous forme de dataframe ou autre. On va donc écrire une fonction qui permet de parcourir l'ensemble des images une par une et construit un dataframe à partir d'informations sur les images. Par ailleurs, on va paralléliser l'extraction d'informations pour réduire le temps de traitement.\n"
   ]
  },
  {
   "cell_type": "code",
   "execution_count": 3,
   "id": "b47e64a0",
   "metadata": {},
   "outputs": [],
   "source": [
    "n_cores = 8  # set the number of available CPU cores\n",
    "\n",
    "img_dir = Path(\"../data/raw/image_data/\")  # the folder of the dataset\n",
    "img_names = [img for img in list(img_dir.iterdir())[:100]] # get the names of every images in the folder\n",
    "\n",
    "\n",
    "# processing for each image\n",
    "def process_image(img_file, mode: Literal[\"extract\", \"compute\"] = \"extract\"):\n",
    "    try:\n",
    "        img = cv2.imread(str(img_file), cv2.IMREAD_UNCHANGED)\n",
    "        if img is None:\n",
    "            return None\n",
    "        np_img = img.astype(np.float64)\n",
    "        if mode == \"extract\":\n",
    "            return {\"img_id\": img_file.stem,\n",
    "                    \"img_array\": np_img}\n",
    "        else:\n",
    "            h, w = img.shape[:-1]\n",
    "            avg, std = np.mean(np_img, axis=(0, 1)), np.std(np_img, axis=(0, 1))\n",
    "        return {\"img_id\": img_file.stem,\n",
    "                \"width\": w,\n",
    "                \"height\": h,\n",
    "                \"memsize\": img.nbytes,\n",
    "                \"avg_red_pixel\": float(avg[0]),\n",
    "                \"stddev_red_pixel\": float(std[0]),\n",
    "                \"avg_green_pixel\": float(avg[1]),\n",
    "                \"stddev_green_pixel\": float(std[1]),\n",
    "                \"avg_blue_pixel\": float(avg[2]),\n",
    "                \"stddev_blue_pixel\": float(std[2]),\n",
    "                \"avg_combined_pixel\": float(np.mean(avg)),\n",
    "                \"stddev_combined_pixel\": float(np.mean(std))}\n",
    "    except Exception:\n",
    "        return None\n",
    "\n",
    "# loop for all images\n",
    "def make_dataframe(img_names, mode: Literal[\"extract\", \"compute\"] = \"extract\") -> tuple[pd.DataFrame, list]:\n",
    "    data = []\n",
    "    errors = []\n",
    "    with concurrent.futures.ThreadPoolExecutor(max_workers=8) as executor:\n",
    "        futures = {executor.submit(lambda x: process_image(x, mode), img): img for img in img_names}\n",
    "        for i, future in enumerate(concurrent.futures.as_completed(futures)):\n",
    "            result = future.result()\n",
    "            img_file = futures[future]\n",
    "            if result is not None:\n",
    "                data.append(result)\n",
    "            else:\n",
    "                errors.append(img_file)\n",
    "            print(f\"\\rProcessing images - {100 * (i+1) / len(img_names):.2f}%   \", end='')\n",
    "    df = pd.DataFrame(data)\n",
    "    print()\n",
    "    return df, errors\n"
   ]
  },
  {
   "cell_type": "code",
   "execution_count": 4,
   "id": "a2b64a7a",
   "metadata": {},
   "outputs": [
    {
     "name": "stdout",
     "output_type": "stream",
     "text": [
      "Processing images - 100.00%   \n"
     ]
    }
   ],
   "source": [
    "# INFO: this cell may take a while to complete because of the number of images to process (CPU Intel i7 11700K : ~4min with 8 cores)\n",
    "df, errors = make_dataframe(img_names)  # create the dataframe\n"
   ]
  },
  {
   "cell_type": "code",
   "execution_count": 5,
   "id": "3747725d",
   "metadata": {},
   "outputs": [
    {
     "name": "stdout",
     "output_type": "stream",
     "text": [
      "[]\n"
     ]
    }
   ],
   "source": [
    "print(errors)  # check if some image processing gone wrong\n"
   ]
  },
  {
   "cell_type": "code",
   "execution_count": 6,
   "id": "bc7bcd64",
   "metadata": {},
   "outputs": [
    {
     "name": "stdout",
     "output_type": "stream",
     "text": [
      "<class 'pandas.core.frame.DataFrame'>\n",
      "RangeIndex: 100 entries, 0 to 99\n",
      "Data columns (total 2 columns):\n",
      " #   Column     Non-Null Count  Dtype \n",
      "---  ------     --------------  ----- \n",
      " 0   img_id     100 non-null    object\n",
      " 1   img_array  100 non-null    object\n",
      "dtypes: object(2)\n",
      "memory usage: 1.7+ KB\n"
     ]
    }
   ],
   "source": [
    "df.info()\n"
   ]
  },
  {
   "cell_type": "code",
   "execution_count": 7,
   "id": "bd47f449",
   "metadata": {},
   "outputs": [
    {
     "data": {
      "text/html": [
       "<div>\n",
       "<style scoped>\n",
       "    .dataframe tbody tr th:only-of-type {\n",
       "        vertical-align: middle;\n",
       "    }\n",
       "\n",
       "    .dataframe tbody tr th {\n",
       "        vertical-align: top;\n",
       "    }\n",
       "\n",
       "    .dataframe thead th {\n",
       "        text-align: right;\n",
       "    }\n",
       "</style>\n",
       "<table border=\"1\" class=\"dataframe\">\n",
       "  <thead>\n",
       "    <tr style=\"text-align: right;\">\n",
       "      <th></th>\n",
       "      <th>img_id</th>\n",
       "      <th>img_array</th>\n",
       "    </tr>\n",
       "  </thead>\n",
       "  <tbody>\n",
       "    <tr>\n",
       "      <th>0</th>\n",
       "      <td>image_1172460449_product_185143847</td>\n",
       "      <td>[[[253.0, 253.0, 253.0], [253.0, 253.0, 253.0]...</td>\n",
       "    </tr>\n",
       "    <tr>\n",
       "      <th>1</th>\n",
       "      <td>image_1313553701_product_4199252811</td>\n",
       "      <td>[[[255.0, 255.0, 255.0], [255.0, 255.0, 255.0]...</td>\n",
       "    </tr>\n",
       "    <tr>\n",
       "      <th>2</th>\n",
       "      <td>image_1008107210_product_435919430</td>\n",
       "      <td>[[[255.0, 255.0, 255.0], [255.0, 255.0, 255.0]...</td>\n",
       "    </tr>\n",
       "    <tr>\n",
       "      <th>3</th>\n",
       "      <td>image_963713094_product_19862570</td>\n",
       "      <td>[[[255.0, 255.0, 255.0], [255.0, 255.0, 255.0]...</td>\n",
       "    </tr>\n",
       "    <tr>\n",
       "      <th>4</th>\n",
       "      <td>image_1190251689_product_2738644573</td>\n",
       "      <td>[[[255.0, 255.0, 255.0], [255.0, 255.0, 255.0]...</td>\n",
       "    </tr>\n",
       "  </tbody>\n",
       "</table>\n",
       "</div>"
      ],
      "text/plain": [
       "                                img_id  \\\n",
       "0   image_1172460449_product_185143847   \n",
       "1  image_1313553701_product_4199252811   \n",
       "2   image_1008107210_product_435919430   \n",
       "3     image_963713094_product_19862570   \n",
       "4  image_1190251689_product_2738644573   \n",
       "\n",
       "                                           img_array  \n",
       "0  [[[253.0, 253.0, 253.0], [253.0, 253.0, 253.0]...  \n",
       "1  [[[255.0, 255.0, 255.0], [255.0, 255.0, 255.0]...  \n",
       "2  [[[255.0, 255.0, 255.0], [255.0, 255.0, 255.0]...  \n",
       "3  [[[255.0, 255.0, 255.0], [255.0, 255.0, 255.0]...  \n",
       "4  [[[255.0, 255.0, 255.0], [255.0, 255.0, 255.0]...  "
      ]
     },
     "execution_count": 7,
     "metadata": {},
     "output_type": "execute_result"
    }
   ],
   "source": [
    "df.head()\n"
   ]
  },
  {
   "cell_type": "markdown",
   "id": "bb1d96cd",
   "metadata": {},
   "source": [
    "# 2 - Exploration\n",
    "\n",
    "Explorons ce nouveau dataset. Commençons par vérifier que toutes les images sont définies sur les $3$ canaux standards RGB.\n"
   ]
  },
  {
   "cell_type": "code",
   "execution_count": null,
   "id": "33900d60",
   "metadata": {},
   "outputs": [],
   "source": [
    "df.isna().sum()\n"
   ]
  },
  {
   "cell_type": "markdown",
   "id": "5c09b75d",
   "metadata": {},
   "source": [
    "Aucune valeur manquante n'est présente dans le dataframe, donc toutes les images sont définies en RGB.\n",
    "\n",
    "Etudions maintenant la dimension des images.\n"
   ]
  },
  {
   "cell_type": "code",
   "execution_count": null,
   "id": "6f4392a3",
   "metadata": {},
   "outputs": [],
   "source": [
    "df[['width', 'height', 'memsize']].value_counts()\n"
   ]
  },
  {
   "cell_type": "markdown",
   "id": "b45bbcd9",
   "metadata": {},
   "source": [
    "Toutes les images ont la même dimension, et donc la même taille en mémoire. C'est une information qui nous épargne d'effectuer une uniformisation des tailles des images. On a aussi un contrôle sur la taille mémoire des images, donc on sait que chaque image devrait avoir une durée de manipulation (pré-traitement, entraînement des modèles, etc) *a priori* identique. Comme on a vérifié ces infos, on peut les retirer du dataframe.\n"
   ]
  },
  {
   "cell_type": "code",
   "execution_count": null,
   "id": "ad4375c0",
   "metadata": {},
   "outputs": [],
   "source": [
    "df = df.drop(columns=['width', 'height', 'memsize'])\n"
   ]
  },
  {
   "cell_type": "markdown",
   "id": "9572d542",
   "metadata": {},
   "source": [
    "Notons que la taille des images amène une représentation matricielle de dimension $(500, 500, 3)$, c'est-à-dire que chaque image transmis à un modèle est une donnée de dimension $750\\,000$. On est donc sur un problème de très grande dimension, nécessitant l'utilisation de modèles particulièrement bien adapté à ce genre de données. Potentiellement, on pourra considérer des techniques de réduction de dimension pour simplifier l'espace des données. On peut penser notamment à une réduction des canaux (passage RGB -> nuances de gris), des features selection par auto-encodeurs, ACP, etc.\n",
    "\n",
    "Etudions plus en détail la répartition des pixels moyens sur l'ensemble du dataset.\n"
   ]
  },
  {
   "cell_type": "code",
   "execution_count": null,
   "id": "bb08b611",
   "metadata": {},
   "outputs": [],
   "source": [
    "fig, ax = plt.subplot_mosaic([[1, 2, 3], [4, 4, 4]], figsize=(15, 10))\n",
    "\n",
    "sns.histplot(df['avg_red_pixel'], bins=50, ax=ax[1], color='gray', zorder=2)\n",
    "ax[1].set_ylabel('Counts')\n",
    "xa = ax[1].twinx()\n",
    "sns.kdeplot(df['avg_red_pixel'], ax=xa, color='black', zorder=2)\n",
    "ax[1].set_xlabel('Values')\n",
    "ax[1].set_xlim(right=260)\n",
    "ax[1].grid(axis='y', linestyle='--')\n",
    "ax[1].set_title('Distribution of average red channel intensity')\n",
    "\n",
    "sns.histplot(df['avg_green_pixel'], bins=50, ax=ax[2], color='gray', zorder=2)\n",
    "ax[2].set_ylabel('Counts')\n",
    "xa = ax[2].twinx()\n",
    "sns.kdeplot(df['avg_green_pixel'], ax=xa, color='black', zorder=2)\n",
    "ax[2].set_xlabel('Values')\n",
    "ax[2].set_xlim(right=260)\n",
    "ax[2].grid(axis='y', linestyle='--')\n",
    "ax[2].set_title('Distribution of average green channel intensity')\n",
    "\n",
    "sns.histplot(df['avg_blue_pixel'], bins=50, ax=ax[3], color='gray', zorder=2)\n",
    "ax[3].set_ylabel('Counts')\n",
    "xa = ax[3].twinx()\n",
    "sns.kdeplot(df['avg_blue_pixel'], ax=xa, color='black', zorder=2)\n",
    "ax[3].set_xlabel('Values')\n",
    "ax[3].set_xlim(right=260)\n",
    "ax[3].grid(axis='y', linestyle='--')\n",
    "ax[3].set_title('Distribution of average blue channel intensity')\n",
    "\n",
    "sns.histplot(df['avg_combined_pixel'], bins=50, ax=ax[4], color='gray', zorder=2)\n",
    "ax[4].set_ylabel('Counts')\n",
    "xa = ax[4].twinx()\n",
    "sns.kdeplot(df['avg_combined_pixel'], ax=xa, color='black', zorder=2)\n",
    "ax[4].set_xlabel('Values')\n",
    "ax[4].set_xlim(right=260)\n",
    "ax[4].grid(axis='y', linestyle='--')\n",
    "ax[4].set_title('Distribution of average pixel intensity')\n",
    "\n",
    "plt.tight_layout()\n",
    "plt.plot()\n"
   ]
  },
  {
   "cell_type": "markdown",
   "id": "1f222200",
   "metadata": {},
   "source": [
    "Aucune tendance particulière n'est visible sur les distributions. On peut confirmer le fait que dans l'ensemble, les images ont une intensité plutôt bonne (valeur du pixel moyen > $100$ dans la majorité des cas). On va rattacher les informations obtenues sur les images aux classes dans le but de déterminer si certaines classes ont certaines couleurs qui seraient prédominantes. On va importer les datasets correspondant et joindre le dataframe ci-dessus.\n"
   ]
  },
  {
   "cell_type": "code",
   "execution_count": 8,
   "id": "1a571c96",
   "metadata": {},
   "outputs": [
    {
     "name": "stdout",
     "output_type": "stream",
     "text": [
      "<class 'pandas.core.frame.DataFrame'>\n",
      "RangeIndex: 100 entries, 0 to 99\n",
      "Data columns (total 4 columns):\n",
      " #   Column     Non-Null Count  Dtype \n",
      "---  ------     --------------  ----- \n",
      " 0   img_array  100 non-null    object\n",
      " 1   productid  100 non-null    int64 \n",
      " 2   imageid    100 non-null    int64 \n",
      " 3   labels     100 non-null    int64 \n",
      "dtypes: int64(3), object(1)\n",
      "memory usage: 3.3+ KB\n"
     ]
    },
    {
     "data": {
      "text/html": [
       "<div>\n",
       "<style scoped>\n",
       "    .dataframe tbody tr th:only-of-type {\n",
       "        vertical-align: middle;\n",
       "    }\n",
       "\n",
       "    .dataframe tbody tr th {\n",
       "        vertical-align: top;\n",
       "    }\n",
       "\n",
       "    .dataframe thead th {\n",
       "        text-align: right;\n",
       "    }\n",
       "</style>\n",
       "<table border=\"1\" class=\"dataframe\">\n",
       "  <thead>\n",
       "    <tr style=\"text-align: right;\">\n",
       "      <th></th>\n",
       "      <th>img_array</th>\n",
       "      <th>productid</th>\n",
       "      <th>imageid</th>\n",
       "      <th>labels</th>\n",
       "    </tr>\n",
       "  </thead>\n",
       "  <tbody>\n",
       "    <tr>\n",
       "      <th>0</th>\n",
       "      <td>[[[253.0, 253.0, 253.0], [253.0, 253.0, 253.0]...</td>\n",
       "      <td>185143847</td>\n",
       "      <td>1172460449</td>\n",
       "      <td>1560</td>\n",
       "    </tr>\n",
       "    <tr>\n",
       "      <th>1</th>\n",
       "      <td>[[[255.0, 255.0, 255.0], [255.0, 255.0, 255.0]...</td>\n",
       "      <td>4199252811</td>\n",
       "      <td>1313553701</td>\n",
       "      <td>40</td>\n",
       "    </tr>\n",
       "    <tr>\n",
       "      <th>2</th>\n",
       "      <td>[[[255.0, 255.0, 255.0], [255.0, 255.0, 255.0]...</td>\n",
       "      <td>435919430</td>\n",
       "      <td>1008107210</td>\n",
       "      <td>2280</td>\n",
       "    </tr>\n",
       "    <tr>\n",
       "      <th>3</th>\n",
       "      <td>[[[255.0, 255.0, 255.0], [255.0, 255.0, 255.0]...</td>\n",
       "      <td>19862570</td>\n",
       "      <td>963713094</td>\n",
       "      <td>10</td>\n",
       "    </tr>\n",
       "    <tr>\n",
       "      <th>4</th>\n",
       "      <td>[[[255.0, 255.0, 255.0], [255.0, 255.0, 255.0]...</td>\n",
       "      <td>2738644573</td>\n",
       "      <td>1190251689</td>\n",
       "      <td>2583</td>\n",
       "    </tr>\n",
       "  </tbody>\n",
       "</table>\n",
       "</div>"
      ],
      "text/plain": [
       "                                           img_array   productid     imageid  \\\n",
       "0  [[[253.0, 253.0, 253.0], [253.0, 253.0, 253.0]...   185143847  1172460449   \n",
       "1  [[[255.0, 255.0, 255.0], [255.0, 255.0, 255.0]...  4199252811  1313553701   \n",
       "2  [[[255.0, 255.0, 255.0], [255.0, 255.0, 255.0]...   435919430  1008107210   \n",
       "3  [[[255.0, 255.0, 255.0], [255.0, 255.0, 255.0]...    19862570   963713094   \n",
       "4  [[[255.0, 255.0, 255.0], [255.0, 255.0, 255.0]...  2738644573  1190251689   \n",
       "\n",
       "   labels  \n",
       "0    1560  \n",
       "1      40  \n",
       "2    2280  \n",
       "3      10  \n",
       "4    2583  "
      ]
     },
     "execution_count": 8,
     "metadata": {},
     "output_type": "execute_result"
    }
   ],
   "source": [
    "df_text = pd.read_csv('../data/raw/X_data.csv', index_col=0)[['productid', 'imageid']].copy(deep=True)\n",
    "\n",
    "labels = pd.read_csv('../data/raw/Y_data.csv', index_col=0).rename(columns={'prdtypecode': 'labels'})\n",
    "\n",
    "df_text = pd.concat([df_text, labels], axis=1)\n",
    "\n",
    "df['productid'] = df['img_id'].apply(lambda s: s.split('_')[-1]).astype('int64')\n",
    "df['imageid'] = df['img_id'].apply(lambda s: s.split('_')[1]).astype('int64')\n",
    "\n",
    "df = df.merge(right=df_text, how='left', on=['productid', 'imageid'])  # merging the dataframes\n",
    "\n",
    "df = df.drop(columns=['img_id'])\n",
    "\n",
    "df.info()\n",
    "df.head()\n"
   ]
  },
  {
   "cell_type": "markdown",
   "id": "b5daaf19",
   "metadata": {},
   "source": [
    "Maintenant que l'on dispose des classes associées aux images, on va pouvoir faire des groupements dessus. Observons la distribution des valeurs des pixels moyen par canal et par groupe. Cela pourrait permettre de déterminer si il est nécessaire de conserver des images en RGB où si la coloration est insensible aux différentes classes.\n"
   ]
  },
  {
   "cell_type": "code",
   "execution_count": 31,
   "id": "0219405a",
   "metadata": {},
   "outputs": [
    {
     "name": "stdout",
     "output_type": "stream",
     "text": [
      "<class 'pandas.core.frame.DataFrame'>\n",
      "RangeIndex: 24 entries, 0 to 23\n",
      "Data columns (total 4 columns):\n",
      " #   Column   Non-Null Count  Dtype  \n",
      "---  ------   --------------  -----  \n",
      " 0   labels   24 non-null     int64  \n",
      " 1   canal_1  24 non-null     float64\n",
      " 2   canal_2  24 non-null     float64\n",
      " 3   canal_3  24 non-null     float64\n",
      "dtypes: float64(3), int64(1)\n",
      "memory usage: 900.0 bytes\n"
     ]
    },
    {
     "data": {
      "text/html": [
       "<div>\n",
       "<style scoped>\n",
       "    .dataframe tbody tr th:only-of-type {\n",
       "        vertical-align: middle;\n",
       "    }\n",
       "\n",
       "    .dataframe tbody tr th {\n",
       "        vertical-align: top;\n",
       "    }\n",
       "\n",
       "    .dataframe thead th {\n",
       "        text-align: right;\n",
       "    }\n",
       "</style>\n",
       "<table border=\"1\" class=\"dataframe\">\n",
       "  <thead>\n",
       "    <tr style=\"text-align: right;\">\n",
       "      <th></th>\n",
       "      <th>labels</th>\n",
       "      <th>canal_1</th>\n",
       "      <th>canal_2</th>\n",
       "      <th>canal_3</th>\n",
       "    </tr>\n",
       "  </thead>\n",
       "  <tbody>\n",
       "    <tr>\n",
       "      <th>0</th>\n",
       "      <td>10</td>\n",
       "      <td>0.328909</td>\n",
       "      <td>0.334082</td>\n",
       "      <td>0.337009</td>\n",
       "    </tr>\n",
       "    <tr>\n",
       "      <th>1</th>\n",
       "      <td>40</td>\n",
       "      <td>0.328616</td>\n",
       "      <td>0.334099</td>\n",
       "      <td>0.337285</td>\n",
       "    </tr>\n",
       "    <tr>\n",
       "      <th>2</th>\n",
       "      <td>60</td>\n",
       "      <td>0.337034</td>\n",
       "      <td>0.326744</td>\n",
       "      <td>0.336222</td>\n",
       "    </tr>\n",
       "    <tr>\n",
       "      <th>3</th>\n",
       "      <td>1140</td>\n",
       "      <td>0.326547</td>\n",
       "      <td>0.332207</td>\n",
       "      <td>0.341246</td>\n",
       "    </tr>\n",
       "    <tr>\n",
       "      <th>4</th>\n",
       "      <td>1160</td>\n",
       "      <td>0.321697</td>\n",
       "      <td>0.333048</td>\n",
       "      <td>0.345255</td>\n",
       "    </tr>\n",
       "  </tbody>\n",
       "</table>\n",
       "</div>"
      ],
      "text/plain": [
       "   labels   canal_1   canal_2   canal_3\n",
       "0      10  0.328909  0.334082  0.337009\n",
       "1      40  0.328616  0.334099  0.337285\n",
       "2      60  0.337034  0.326744  0.336222\n",
       "3    1140  0.326547  0.332207  0.341246\n",
       "4    1160  0.321697  0.333048  0.345255"
      ]
     },
     "execution_count": 31,
     "metadata": {},
     "output_type": "execute_result"
    }
   ],
   "source": [
    "df[\"canal_1\"] = df[\"img_array\"].apply(lambda arr: arr[:, :, 0].sum() / arr.sum())\n",
    "df[\"canal_2\"] = df[\"img_array\"].apply(lambda arr: arr[:, :, 1].sum() / arr.sum())\n",
    "df[\"canal_3\"] = df[\"img_array\"].apply(lambda arr: arr[:, :, 2].sum() / arr.sum())\n",
    "\n",
    "\n",
    "labels_group = df[[\"labels\", \"canal_1\", \"canal_2\", \"canal_3\"]].groupby(\"labels\").agg({\"canal_1\": \"mean\",\n",
    "                                                                                      \"canal_2\": \"mean\",\n",
    "                                                                                      \"canal_3\": \"mean\"}, axis=1).reset_index()\n",
    "\n",
    "labels_group.info()\n",
    "labels_group.head()\n"
   ]
  },
  {
   "cell_type": "code",
   "execution_count": null,
   "id": "1081450c",
   "metadata": {},
   "outputs": [],
   "source": [
    "labels_group = df[['labels', 'avg_red_pixel', 'avg_green_pixel', 'avg_blue_pixel']].groupby('labels').agg('mean').reset_index()  # grouping by labels and aggregate with mean\n",
    "\n",
    "# ratio of each channels for each label\n",
    "labels_group['red_ratio'] = labels_group['avg_red_pixel'] / (labels_group['avg_red_pixel'] + labels_group['avg_green_pixel'] + labels_group['avg_blue_pixel'])\n",
    "labels_group['green_ratio'] = labels_group['avg_green_pixel'] / (labels_group['avg_red_pixel'] + labels_group['avg_green_pixel'] + labels_group['avg_blue_pixel'])\n",
    "labels_group['blue_ratio'] = labels_group['avg_blue_pixel'] / (labels_group['avg_red_pixel'] + labels_group['avg_green_pixel'] + labels_group['avg_blue_pixel'])\n",
    "\n",
    "fig, ax = plt.subplots(nrows=1, ncols=1, figsize=(10, 8))\n",
    "positions = range(27)\n",
    "\n",
    "ax.bar(positions, labels_group['red_ratio'], color='darkred', tick_label=labels_group['labels'], zorder=2)\n",
    "ax.bar(positions, labels_group['green_ratio'], bottom=labels_group['red_ratio'], color='darkgreen', tick_label=labels_group['labels'], zorder=2)\n",
    "ax.bar(positions, labels_group['blue_ratio'], bottom=labels_group['red_ratio'] + labels_group['green_ratio'], tick_label=labels_group['labels'], zorder=2)\n",
    "\n",
    "ax.set_xlabel('Labels')\n",
    "ax.set_ylabel('Predominance of channels')\n",
    "ax.set_title('Distribution of channel predominance by labels')\n",
    "ax.grid(axis='y', linestyle='--')\n",
    "\n",
    "plt.tight_layout()\n",
    "plt.show()\n"
   ]
  },
  {
   "cell_type": "markdown",
   "id": "c3b9f7ba",
   "metadata": {},
   "source": [
    "A la vue de l'histogramme de prédominance ci-dessus, on ne peut pas conclure sur une caractérisation colorimétrique des différentes classes. On pourra donc considérer une transformation des images en nuances de gris, par exemple, pour réduire le poids des données (dimensions, taille mémoire, etc).\n",
    "\n",
    "\n",
    "## 3 - Conclusion\n",
    "\n",
    "On a vu dans ce notebook plusieurs éléments remarquables concernant le dataset d'images. Entre autres :\n",
    "- Les images sont sous format RGB et standardisées en taille, leur dimension est $(500, 500, 3)$.\n",
    "- Les modèles utilisés doivent donc supporter des données de très grande dimension.\n",
    "- Les canaux RGB des images ne semblent pas caractériser les classes à prédire, on peut donc penser *a priori* à une réduction de dimension en transformant en nuances de gris les images -> dimension divisé par $3$.\n",
    "\n",
    "\n",
    "## REMARQUE\n",
    "\n",
    "*Extraction des valeurs de pixel en faisant la moyenne sur toute l'image, donc possiblement trop aggrégé d'où les résultats insensibles aux classes. Peut-être extraire une sous-image plutôt que juste la valeur moyenne du pixel par canal ?*\n"
   ]
  },
  {
   "cell_type": "markdown",
   "id": "36263726",
   "metadata": {},
   "source": []
  }
 ],
 "metadata": {
  "kernelspec": {
   "display_name": ".venv",
   "language": "python",
   "name": "python3"
  },
  "language_info": {
   "codemirror_mode": {
    "name": "ipython",
    "version": 3
   },
   "file_extension": ".py",
   "mimetype": "text/x-python",
   "name": "python",
   "nbconvert_exporter": "python",
   "pygments_lexer": "ipython3",
   "version": "3.12.11"
  }
 },
 "nbformat": 4,
 "nbformat_minor": 5
}
