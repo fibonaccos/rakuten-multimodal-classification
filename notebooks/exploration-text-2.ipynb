{
 "cells": [
  {
   "cell_type": "markdown",
   "id": "2128875a",
   "metadata": {},
   "source": [
    "# Exploration of the textual dataset\n"
   ]
  },
  {
   "cell_type": "markdown",
   "id": "dc28a549",
   "metadata": {},
   "source": [
    "Dans ce notebook, on se concentre sur les classes à prédire du jeu de données d'entraînement `Y_train.csv`, que l'on nommera `labels`. Pour tirer pleinement parti de l'analyse, il est nécessaire d'utiliser le dataset d'entraînement `X_train.csv` utilisé et exploré dans le notebook `discovery-text-1.ipynb`. On notera ce dernier `data`.\n"
   ]
  },
  {
   "cell_type": "code",
   "execution_count": null,
   "id": "39e06056",
   "metadata": {},
   "outputs": [],
   "source": [
    "import pandas as pd\n",
    "import string\n",
    "import matplotlib.pyplot as plt\n",
    "import seaborn as sns\n"
   ]
  },
  {
   "cell_type": "code",
   "execution_count": null,
   "id": "2a06da00",
   "metadata": {},
   "outputs": [],
   "source": []
  }
 ],
 "metadata": {
  "kernelspec": {
   "display_name": ".venv",
   "language": "python",
   "name": "python3"
  },
  "language_info": {
   "name": "python",
   "version": "3.12.3"
  }
 },
 "nbformat": 4,
 "nbformat_minor": 5
}
