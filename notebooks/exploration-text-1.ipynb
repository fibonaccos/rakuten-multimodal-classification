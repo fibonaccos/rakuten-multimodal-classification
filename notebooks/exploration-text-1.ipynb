{
 "cells": [
  {
   "cell_type": "markdown",
   "id": "aa75f87c",
   "metadata": {},
   "source": [
    "# Exploration of the textual dataset\n",
    "\n",
    "Dans ce notebook, on se concentre sur le jeu de données d'entraînement textuel `X_train.csv`, que l'on nommera `df`.\n",
    "\n",
    "\n",
    "## 1. Structure of the dataset\n"
   ]
  },
  {
   "cell_type": "code",
   "execution_count": 1,
   "id": "85a4cc97",
   "metadata": {},
   "outputs": [],
   "source": [
    "import pandas as pd\n",
    "import string\n",
    "import matplotlib.pyplot as plt\n",
    "import seaborn as sns\n"
   ]
  },
  {
   "cell_type": "code",
   "execution_count": 2,
   "id": "f4c664b2",
   "metadata": {},
   "outputs": [
    {
     "name": "stdout",
     "output_type": "stream",
     "text": [
      "<class 'pandas.core.frame.DataFrame'>\n",
      "RangeIndex: 84916 entries, 0 to 84915\n",
      "Data columns (total 5 columns):\n",
      " #   Column       Non-Null Count  Dtype \n",
      "---  ------       --------------  ----- \n",
      " 0   Unnamed: 0   84916 non-null  int64 \n",
      " 1   designation  84916 non-null  object\n",
      " 2   description  55116 non-null  object\n",
      " 3   productid    84916 non-null  int64 \n",
      " 4   imageid      84916 non-null  int64 \n",
      "dtypes: int64(3), object(2)\n",
      "memory usage: 3.2+ MB\n"
     ]
    },
    {
     "data": {
      "text/plain": [
       "None"
      ]
     },
     "metadata": {},
     "output_type": "display_data"
    }
   ],
   "source": [
    "df = pd.read_csv('../data/raw/X_data.csv')\n",
    "display(df.info())\n"
   ]
  },
  {
   "cell_type": "markdown",
   "id": "1dcb13ee",
   "metadata": {},
   "source": [
    "On peut déjà relever les informations suivantes :\n",
    "- Le dataset possède **84916 lignes** et **5 colonnes**.\n",
    "- Une colonne ne semble contenir aucune information pertinente : `Unnamed: 0`.\n",
    "- A l'exception de la colonne `description`, le dataset n'a pas de valeurs manquantes.\n",
    "\n",
    "Jetons un oeil aux premières lignes du dataset et vérifions que la colonne `Unnamed: 0` peut bien être retirée.\n"
   ]
  },
  {
   "cell_type": "code",
   "execution_count": 3,
   "id": "f94d8125",
   "metadata": {},
   "outputs": [
    {
     "data": {
      "text/html": [
       "<div>\n",
       "<style scoped>\n",
       "    .dataframe tbody tr th:only-of-type {\n",
       "        vertical-align: middle;\n",
       "    }\n",
       "\n",
       "    .dataframe tbody tr th {\n",
       "        vertical-align: top;\n",
       "    }\n",
       "\n",
       "    .dataframe thead th {\n",
       "        text-align: right;\n",
       "    }\n",
       "</style>\n",
       "<table border=\"1\" class=\"dataframe\">\n",
       "  <thead>\n",
       "    <tr style=\"text-align: right;\">\n",
       "      <th></th>\n",
       "      <th>Unnamed: 0</th>\n",
       "      <th>designation</th>\n",
       "      <th>description</th>\n",
       "      <th>productid</th>\n",
       "      <th>imageid</th>\n",
       "    </tr>\n",
       "  </thead>\n",
       "  <tbody>\n",
       "    <tr>\n",
       "      <th>0</th>\n",
       "      <td>0</td>\n",
       "      <td>Olivia: Personalisiertes Notizbuch / 150 Seite...</td>\n",
       "      <td>NaN</td>\n",
       "      <td>3804725264</td>\n",
       "      <td>1263597046</td>\n",
       "    </tr>\n",
       "    <tr>\n",
       "      <th>1</th>\n",
       "      <td>1</td>\n",
       "      <td>Journal Des Arts (Le) N° 133 Du 28/09/2001 - L...</td>\n",
       "      <td>NaN</td>\n",
       "      <td>436067568</td>\n",
       "      <td>1008141237</td>\n",
       "    </tr>\n",
       "    <tr>\n",
       "      <th>2</th>\n",
       "      <td>2</td>\n",
       "      <td>Grand Stylet Ergonomique Bleu Gamepad Nintendo...</td>\n",
       "      <td>PILOT STYLE Touch Pen de marque Speedlink est ...</td>\n",
       "      <td>201115110</td>\n",
       "      <td>938777978</td>\n",
       "    </tr>\n",
       "    <tr>\n",
       "      <th>3</th>\n",
       "      <td>3</td>\n",
       "      <td>Peluche Donald - Europe - Disneyland 2000 (Mar...</td>\n",
       "      <td>NaN</td>\n",
       "      <td>50418756</td>\n",
       "      <td>457047496</td>\n",
       "    </tr>\n",
       "    <tr>\n",
       "      <th>4</th>\n",
       "      <td>4</td>\n",
       "      <td>La Guerre Des Tuques</td>\n",
       "      <td>Luc a des id&amp;eacute;es de grandeur. Il veut or...</td>\n",
       "      <td>278535884</td>\n",
       "      <td>1077757786</td>\n",
       "    </tr>\n",
       "  </tbody>\n",
       "</table>\n",
       "</div>"
      ],
      "text/plain": [
       "   Unnamed: 0                                        designation  \\\n",
       "0           0  Olivia: Personalisiertes Notizbuch / 150 Seite...   \n",
       "1           1  Journal Des Arts (Le) N° 133 Du 28/09/2001 - L...   \n",
       "2           2  Grand Stylet Ergonomique Bleu Gamepad Nintendo...   \n",
       "3           3  Peluche Donald - Europe - Disneyland 2000 (Mar...   \n",
       "4           4                               La Guerre Des Tuques   \n",
       "\n",
       "                                         description   productid     imageid  \n",
       "0                                                NaN  3804725264  1263597046  \n",
       "1                                                NaN   436067568  1008141237  \n",
       "2  PILOT STYLE Touch Pen de marque Speedlink est ...   201115110   938777978  \n",
       "3                                                NaN    50418756   457047496  \n",
       "4  Luc a des id&eacute;es de grandeur. Il veut or...   278535884  1077757786  "
      ]
     },
     "metadata": {},
     "output_type": "display_data"
    }
   ],
   "source": [
    "display(df.head())\n"
   ]
  },
  {
   "cell_type": "code",
   "execution_count": 4,
   "id": "2c98b911",
   "metadata": {},
   "outputs": [
    {
     "name": "stdout",
     "output_type": "stream",
     "text": [
      "<class 'pandas.core.frame.DataFrame'>\n",
      "RangeIndex: 84916 entries, 0 to 84915\n",
      "Data columns (total 4 columns):\n",
      " #   Column       Non-Null Count  Dtype \n",
      "---  ------       --------------  ----- \n",
      " 0   designation  84916 non-null  object\n",
      " 1   description  55116 non-null  object\n",
      " 2   productid    84916 non-null  int64 \n",
      " 3   imageid      84916 non-null  int64 \n",
      "dtypes: int64(2), object(2)\n",
      "memory usage: 2.6+ MB\n"
     ]
    },
    {
     "data": {
      "text/plain": [
       "None"
      ]
     },
     "metadata": {},
     "output_type": "display_data"
    }
   ],
   "source": [
    "# Drop column 'Unnamed: 0' if it matches the indexes\n",
    "\n",
    "if df['Unnamed: 0'].equals(df.index.to_series()):\n",
    "    df = df.drop(columns=['Unnamed: 0'])\n",
    "\n",
    "display(df.info())\n"
   ]
  },
  {
   "cell_type": "markdown",
   "id": "ee0b4e45",
   "metadata": {},
   "source": [
    "La colonne inutile a été retirée. On peut maintenant s'intéresser aux autres colonnes.\n",
    "\n",
    "\n",
    "## 2 - Discovery of the features\n",
    "\n",
    "### 2.1 - `productid` and `imageid`\n",
    "\n",
    "Les colonnes `productid` et `imageid` correspondent de part leurs noms aux identifiants Rakuten du produit et son/ses image(s). Elles seront nécessaires pour lier les informations d'un produit (nom, description) à son/ses image(s).\n",
    "\n",
    "A priori, un produit possède **un** intitulé et **une** description, mais **une ou plusieurs** photos. Ainsi, une valeur de la colonne `productid` sera dédoublée si et seulement si plusieurs images du produit sont présentes. La paire (`productid`, `imageid`), quant à elle, reste unique. Vérifions-le.\n"
   ]
  },
  {
   "cell_type": "code",
   "execution_count": 5,
   "id": "a12f6d4f",
   "metadata": {},
   "outputs": [
    {
     "name": "stdout",
     "output_type": "stream",
     "text": [
      "Number of duplicates : 0\n",
      "Number of products with multiple images : 0\n"
     ]
    }
   ],
   "source": [
    "print(f\"Number of duplicates : {df[['productid', 'imageid']].duplicated().sum()}\")\n",
    "print(f\"Number of products with multiple images : {df['productid'].duplicated().sum()}\")\n"
   ]
  },
  {
   "cell_type": "markdown",
   "id": "e575308a",
   "metadata": {},
   "source": [
    "On a donc un dataset avec **une** image pour **un** produit. On peut raisonnablement penser que l'image correspondante est la première du produit (celle vue lorsqu'on consulte une liste de résultats de recherche sur la plateforme).\n",
    "\n",
    "\n",
    "### 2.2 - `designation` and `description`\n",
    "\n",
    "La colonne `designation` correspond à l'intitulé du produit, et `description` correspond aux détails de celui-ci. Un descriptif du produit n'est pas obligatoire sur la plateforme Rakuten, et explique les valeurs manquantes de cette colonne.\n",
    "Découvrons maintenant la colonne `designation`. C'est une feature textuelle, on doit donc inspecter les caractères présents pour relever ceux qui ne sont pas standards et/ou qui s'avéreront inutiles/contraignants pour nos modèles. Ecrivons une fonction qui renvoie une liste de tous les caractères qui ne sont ni alphanumériques, ni de la ponctuation standard.\n"
   ]
  },
  {
   "cell_type": "code",
   "execution_count": 6,
   "id": "95900866",
   "metadata": {},
   "outputs": [],
   "source": [
    "def get_special_characters(serie: pd.Series) -> list[str]:\n",
    "    special_characters = set()\n",
    "    for value in serie:\n",
    "        if pd.isna(value):\n",
    "            continue\n",
    "        for char in value:\n",
    "            if not char.isalpha() and not char.isdigit() and char not in string.punctuation:\n",
    "                special_characters.add(char)\n",
    "    return sorted(special_characters)\n"
   ]
  },
  {
   "cell_type": "markdown",
   "id": "a029019b",
   "metadata": {},
   "source": [
    "On identifie alors les caractères spéciaux qu'il faudra traiter. Comme `'description'` est aussi un champ textuel, on applique la fonction précédente aux deux features.\n"
   ]
  },
  {
   "cell_type": "code",
   "execution_count": 7,
   "id": "68e52874",
   "metadata": {},
   "outputs": [
    {
     "name": "stdout",
     "output_type": "stream",
     "text": [
      "Number of distinct special characters in 'designation' : 26\n",
      "Number of distinct special characters in 'description' : 47\n",
      "\n",
      "Special characters in 'designation' : [' ', '\\x80', '\\x8c', '\\x91', '\\x92', '\\x93', '\\x94', '\\x96', '\\x97', '\\x9c', '¡', '¢', '¥', '§', '©', '«', '¬', '\\xad', '®', '°', '±', '´', '»', '¿', '×', '’']\n",
      "Special characters in 'description' : ['\\t', '\\n', '\\r', ' ', '\\x7f', '\\x80', '\\x85', '\\x87', '\\x92', '\\x93', '\\x94', '\\x95', '\\x96', '\\x99', '\\x9c', '\\xa0', '¡', '¢', '£', '¥', '§', '©', '«', '¬', '\\xad', '®', '¯', '°', '±', '´', '·', '¸', '»', '½', '¿', '×', '\\u2003', '\\u2005', '\\u200b', '–', '‘', '’', '“', '”', '„', '•', '…']\n"
     ]
    }
   ],
   "source": [
    "designation_special_chars = get_special_characters(df['designation'])\n",
    "description_special_chars = get_special_characters(df['description'])\n",
    "\n",
    "print(f\"Number of distinct special characters in 'designation' : {len(designation_special_chars)}\")\n",
    "print(f\"Number of distinct special characters in 'description' : {len(description_special_chars)}\")\n",
    "print()\n",
    "print(f\"Special characters in 'designation' : {designation_special_chars}\")\n",
    "print(f\"Special characters in 'description' : {description_special_chars}\")\n"
   ]
  },
  {
   "cell_type": "markdown",
   "id": "9eabbb74",
   "metadata": {},
   "source": [
    "On a un certain nombre de caractères spéciaux à gérer (ré-encodage, suppression, ...). Certains d'entre eux (guillements, espaces, retour ligne, tabulations, etc) sont standards mais doivent tout de même être pris en compte et traités. Une analyse poussée doit être réalisée pour s'assurer que l'ensemble des caractères soit interprétable par les modèles.\n",
    "\n",
    "En pratique, il se peut que la description d'un produit se trouve dans son intitulé (donc dans `designation`). Il en résulte que l'information normalement récupérable dans la colonne `description` sera retrouvée dans la colonne `designation`. On se propose d'analyser la distribution de la longueur des chaines de caractères dans la colonne `designation` en fonction de l'état de la description (valeur manquante ou non). Par la même occasion, on va calculer les statistiques de base de cette distribution.\n"
   ]
  },
  {
   "cell_type": "code",
   "execution_count": 15,
   "id": "e0f759b8",
   "metadata": {},
   "outputs": [
    {
     "data": {
      "image/png": "[encoded data removed]",
      "text/plain": [
       "<Figure size 900x500 with 4 Axes>"
      ]
     },
     "metadata": {},
     "output_type": "display_data"
    },
    {
     "name": "stdout",
     "output_type": "stream",
     "text": [
      "Stats of designation length with description :\n",
      "\t mean : 73.67\n",
      "\t median : 74.00\n",
      "\t stddev : 29.81\n",
      "Stats of designation length without description :\n",
      "\t mean : 63.67\n",
      "\t median : 50.00\n",
      "\t stddev : 46.36\n"
     ]
    }
   ],
   "source": [
    "df['designation_length'] = df['designation'].apply(lambda s: len(s))\n",
    "df['missing_description'] = df['description'].apply(lambda s: 'yes' if pd.isna(s) else 'no')\n",
    "\n",
    "\n",
    "fig, ax = plt.subplots(nrows=2, ncols=1, figsize=(9, 5))\n",
    "\n",
    "sns.histplot(df[df['missing_description'] == 'no']['designation_length'], bins=50, color='gray', ax=ax[0], zorder=2)  # histogram with description\n",
    "xa = ax[0].twinx()\n",
    "sns.kdeplot(df[df['missing_description'] == 'no']['designation_length'], color='black', ax=xa, zorder=2)  # kde with description\n",
    "\n",
    "sns.histplot(df[df['missing_description'] == 'yes']['designation_length'], bins=50, color='gray', ax=ax[1], zorder=2)  # histogram without description\n",
    "xa = ax[1].twinx()\n",
    "sns.kdeplot(df[df['missing_description'] == 'yes']['designation_length'], color='black', ax=xa, zorder=2)  # kde without decription\n",
    "\n",
    "ax[0].set_title('Distribution of designation length (with description)')\n",
    "ax[0].set_xlabel('Designation length')\n",
    "ax[0].set_ylabel('Counts')\n",
    "ax[0].set_xlim(left=0)\n",
    "ax[0].grid(visible=True, linestyle='--', alpha=0.5, zorder=0, axis='y')\n",
    "\n",
    "ax[1].set_title('Distribution of designation length (without description)')\n",
    "ax[1].set_xlabel('Designation length')\n",
    "ax[1].set_ylabel('Counts')\n",
    "ax[1].set_xlim(left=0)\n",
    "ax[1].grid(visible=True, linestyle='--', alpha=0.5, zorder=0, axis='y')\n",
    "\n",
    "plt.tight_layout()\n",
    "plt.show()\n",
    "\n",
    "\n",
    "print(\"Stats of designation length with description :\")\n",
    "print(f\"\\t mean : {df[df['missing_description'] == 'no']['designation_length'].mean():.2f}\")\n",
    "print(f\"\\t median : {df[df['missing_description'] == 'no']['designation_length'].median():.2f}\")\n",
    "print(f\"\\t stddev : {df[df['missing_description'] == 'no']['designation_length'].std():.2f}\")\n",
    "\n",
    "print(\"Stats of designation length without description :\")\n",
    "print(f\"\\t mean : {df[df['missing_description'] == 'yes']['designation_length'].mean():.2f}\")\n",
    "print(f\"\\t median : {df[df['missing_description'] == 'yes']['designation_length'].median():.2f}\")\n",
    "print(f\"\\t stddev : {df[df['missing_description'] == 'yes']['designation_length'].std():.2f}\")\n"
   ]
  },
  {
   "cell_type": "markdown",
   "id": "ea7fa736",
   "metadata": {},
   "source": [
    "A la vue de ces informations, on peut constater les choses suivantes :\n",
    "- La longueur des titres des produits est en moyenne plus élevée et est plus homogène lorsqu'il y a une description. Cela peut s'expliquer par le fait qu'un individu proposant une description à son produit accorde plus d'importance aux informations transmises aux acheteurs (effort de la part du vendeur, intégration des éléments non obligatoires, etc). En conséquence, les titres sont plus précis, donc plus détaillés, donc plus longs. Ils gardent cependant une taille raisonnable (conscience que le titre doit être concis) étant donné qu'une description est présente pour détailler ces produits.\n",
    "- A contrario, pour les produits sans description, la distribution est plus hétérogène et les longueurs des titres sont globalement plus faibles. On constate un important pic en bout de queue de distribution pour les longueurs de titres entre 240 et 250. On peut d'abord expliquer les longueurs globabement plus faibles par le fait qu'un individu qui ne proposerait pas de description accorde moins d'importance aux informations précises et détaillées contenues dans l'offre du produit ; la personne se limitera donc au strict minimum sur le titre du produit (on ne peut en revanche pas conclure sur la qualité du titre : un titre court, simple, concis peut être tout à fait préférable à un titre plus détaillé et plus long). Concernant le pic sur la queue de la distribution, on peut raisonnablement faire l'hypothèse que certains vendeurs intègrent la description du produit au sein du titre. On a alors un produit où le titre *est* la description ; cette sitation peut être (ou pas) volontaire de la part du vendeur. On note aussi que la queue de la distribution est bien plus importante que celle où une description est présente. Cette observation corrobore l'idée que des vendeurs intègrent la description au sein du titre du produit.\n",
    "- Comme on n'observe aucune valeur supérieure à 250 caractères, il y a un nombre maximum de caractères possibles pour le titre d'un produit. L'hypothèse sur le pic observé est confirmé ici dans le sens où les vendeurs se voient bloqués par la taille limite lorsqu'il décrivent leurs produits (qui en principe peut facilement dépasser 250 caractères).\n",
    "\n",
    "Les éléments ci-dessus nous pousse à effectuer un traitement particulier sur ces deux colonnes. Outre les traitements textuels usuels (caractères spéciaux, embedding, etc), lorsqu'une donnée $X$ possède un titre *long* et ne possède pas de description, l'idée est de doper `description` avec ce titre. Il faut alors déterminer dans quel cas un titre peut être considéré comme une description (critère sur la longueur, etc). En se basant sur les distributions précédentes, un seuil de 150 caractères peut être un candidat pertinent pour discriminer entre titre et description. In fine, la colonne `description` aura un nombre de valeurs manquantes réduit et la qualité des données sera améliorée.\n",
    "\n",
    "En complément de l'étude précédente, on peut tracer la distribution des longueurs des descriptions. Un diagramme en boîte permet de constater que la limite n'est pas fixée à 250 (pas de limite bloquante en pratique). Pour tracer une distribution visuellement interprétable, on va se limiter à la distribution jusqu'à une certaine valeur pour éviter une distorsion dûe aux outliers. On prendra par ailleurs en compte uniquement les descriptions non vides.\n"
   ]
  },
  {
   "cell_type": "code",
   "execution_count": null,
   "id": "3b494e14",
   "metadata": {},
   "outputs": [],
   "source": [
    "df['description_length'] = df['description'].apply(lambda s: len(s) if isinstance(s, str) else 0)  # compute length of descriptions\n",
    "\n",
    "\n",
    "fig, ax = plt.subplot_mosaic([[1, 2], [1, 3]], figsize=(12, 5))\n",
    "\n",
    "\n",
    "sns.boxplot(x='description_length', data=df[df['description_length'] > 0], width=0.35, color='gray', ax=ax[1])  # boxplot of non-zero description length\n",
    "\n",
    "ax[1].set_title('Description length boxplot')\n",
    "ax[1].set_xlabel('Description length')\n",
    "\n",
    "\n",
    "thres = 0.99\n",
    "thres_value = df[df['description_length'] > 0]['description_length'].quantile(thres)  # compute the 99% quantile of non-zero description length\n",
    "\n",
    "\n",
    "sns.histplot(df[(df['description_length'] > 0) & (df['description_length'] < thres_value)]['description_length'], bins=50, color='gray', ax=ax[2], zorder=2)  # histogram of truncated description length\n",
    "sns.kdeplot(df[(df['description_length'] > 0) & (df['description_length'] < thres_value)]['description_length'], fill=True, color='black', ax=ax[3], zorder=2)  # kde of truncated description length\n",
    "\n",
    "ax[2].set_title('Description length distribution (truncated)')\n",
    "ax[2].set_xlabel('Description length')\n",
    "ax[2].set_ylabel('Counts')\n",
    "ax[2].set_xlim(left=0)\n",
    "ax[2].grid(visible=True, linestyle='--', alpha=0.5, zorder=0, axis='y')\n",
    "\n",
    "ax[3].set_title('KDE of description length (truncated)')\n",
    "ax[3].set_xlabel('Description length')\n",
    "ax[3].set_ylabel('Density')\n",
    "ax[3].set_xlim(left=0)\n",
    "ax[3].grid(visible=True, linestyle='--', alpha=0.5, zorder=0)\n",
    "\n",
    "\n",
    "plt.tight_layout()\n",
    "plt.show()\n",
    "\n",
    "\n",
    "print(f\"Quantile at 99% : {thres_value:.2f}\")\n",
    "print(f\"Stats of truncated ({100 * thres:.0f}%) description length :\")\n",
    "print(f\"\\t mean : {df[(df['description_length'] > 0) & (df['description_length'] < thres_value)]['description_length'].mean():.2f}\")\n",
    "print(f\"\\t median : {df[(df['description_length'] > 0) & (df['description_length'] < thres_value)]['description_length'].median():.2f}\")\n",
    "print(f\"\\t stddev : {df[(df['description_length'] > 0) & (df['description_length'] < thres_value)]['description_length'].std():.2f}\")\n",
    "print(f\"\\t mode : {df[(df['description_length'] > 0) & (df['description_length'] < thres_value)]['description_length'].mode()[0]:.2f}\")\n"
   ]
  },
  {
   "cell_type": "markdown",
   "id": "a4d2f5a2",
   "metadata": {},
   "source": [
    "On constate une distribution sensiblement étalée. En moyenne, en conservant les $99\\%$ des descriptions les plus raisonnables, les longueurs sont $\\pm 10$ fois plus longues que les titres. On note aussi un grand nombre de descriptions considérés comme outliers. Il faudra les identifier et les traiter pour améliorer la qualité de cette feature.\n",
    "\n",
    "\n",
    "## 3 - Conclusion\n",
    "\n",
    "Dans ce notebook, l'exploration du dataset d'entraînement nous a permis d'identifier les éléments suivants :\n",
    "- La colonne `Unnamed: 0` est inutile.\n",
    "- La colonne `description` est la seule colonne avec des valeurs manquantes, explicable par son origine dans le contexte réel.\n",
    "- La colonne `description` possède un grand nombre de données anormales à étudier et traiter.\n",
    "- Les colonnes `designation` et `description` doivent être fortement nettoyées étant donné leur type de données (longue chaîne de caractères non tous standards).\n",
    "- Les valeurs manquantes de la colonne `description` peuvent partiellement être remplies en utilisant la colonne `designation`.\n",
    "  \n",
    "Comme ce sera le cas dans les autres notebooks, **tous ces points constituent des étapes essentielles de la phase de prétraitement du jeu de données** et seront intégrées dans le.s pipeline.s correspondante.s.\n",
    "\n",
    "\n",
    "Dans le notebook `discovery-text-2.ipynb`, on se focalisera sur le dataset `Y_train` qui représente les labels à prédire dans le travail de classification.\n"
   ]
  },
  {
   "cell_type": "markdown",
   "id": "c0299ae3",
   "metadata": {},
   "source": []
  }
 ],
 "metadata": {
  "kernelspec": {
   "display_name": ".venv",
   "language": "python",
   "name": "python3"
  },
  "language_info": {
   "codemirror_mode": {
    "name": "ipython",
    "version": 3
   },
   "file_extension": ".py",
   "mimetype": "text/x-python",
   "name": "python",
   "nbconvert_exporter": "python",
   "pygments_lexer": "ipython3",
   "version": "3.12.11"
  }
 },
 "nbformat": 4,
 "nbformat_minor": 5
}
