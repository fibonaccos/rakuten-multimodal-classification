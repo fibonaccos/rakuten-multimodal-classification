{
 "cells": [
  {
   "cell_type": "markdown",
   "id": "13fa6b96",
   "metadata": {},
   "source": [
    "<h1><font color=darkred size=6><center> $\\fbox{Classification Multimodale - Rakuten}$ </center></h1>\n",
    "<font color=dimgrey size=3><center> $Bryan, \\space Rizlène, \\space Romain\\space et \\space Steeve$ </center></h1>"
   ]
  },
  {
   "cell_type": "markdown",
   "id": "69efdc2c",
   "metadata": {},
   "source": [
    "# Table des matières\n",
    "\n",
    "## [Importation des librairies](#Imp)\n",
    "\n",
    "## [1. Analyse Descriptive](#Analyse)\n",
    "- [1.1. Problématique](#Problématique)\n",
    "- [1.2. Présentation des données](#PrezDonnees)\n",
    "    - [1.2.1. Le jeu de données textuel](#Donnees_Textuelles)\n",
    "    - [1.2.2. Le jeu de données visuel](#Donnees_Visuelles)\n",
    "- [1.3. Visualisation des données](#VizDonnees)\n",
    "    - [1.3.1. Analyse préliminaire](#Analyse_Preli)\n",
    "\n",
    "    \n",
    "## [Bibliographies](#Bibli)"
   ]
  },
  {
   "cell_type": "markdown",
   "id": "4e730b4c",
   "metadata": {},
   "source": [
    "<h2><font size=6> Importation des librairies<a name=\"Imp\"></a></h2>"
   ]
  },
  {
   "cell_type": "code",
   "execution_count": 3,
   "id": "f2a1c3e5",
   "metadata": {},
   "outputs": [],
   "source": [
    "import os\n",
    "import csv\n",
    "import pandas as pd\n",
    "import warnings\n",
    "import matplotlib.pyplot as plt\n",
    "import matplotlib.image as mpimg\n",
    "\n",
    "warnings.filterwarnings('ignore')\n",
    "pd.options.display.max_rows = 500\n",
    "pd.options.display.max_columns = None"
   ]
  },
  {
   "cell_type": "markdown",
   "id": "e5d5ec8e",
   "metadata": {},
   "source": [
    "<h2><font size=6> 1. Analyse Descriptive <a name=\"Analyse\"></a></h2>"
   ]
  },
  {
   "cell_type": "markdown",
   "id": "10d4e7a2",
   "metadata": {},
   "source": [
    "<h3><font size=5> 1.1. Problématique <a name=\"Problématique\"></a></h3>"
   ]
  },
  {
   "cell_type": "markdown",
   "id": "52ed5cd3",
   "metadata": {},
   "source": [
    "Dans le cadre de ce projet, nous nous intéressons à la classification multimodale à grande échelle des produits sur la plateforme Rakuten France, en utilisant à la fois des données textuelles et visuelles. La problématique centrale réside dans la nécessité de catégoriser efficacement un vaste catalogue de produits, qui comprend des titres, des descriptions et des images, en codes de type de produit spécifiques. Cette tâche est d'une importance cruciale pour améliorer la recherche personnalisée et les recommandations, tout en faisant face aux défis liés à la diversité des produits, à la qualité variable des données et à la distribution déséquilibrée des classes. L'objectif est de développer un modèle de classification capable de traiter ces informations hétérogènes afin de réduire la duplication et d'optimiser l'expérience utilisateur sur la plateforme."
   ]
  },
  {
   "cell_type": "markdown",
   "id": "ec8418b5",
   "metadata": {},
   "source": [
    "<h3><font size=5> 1.2. Présentation des données <a name=\"PrezDonnees\"></a></h3>"
   ]
  },
  {
   "cell_type": "markdown",
   "id": "f4e9f741",
   "metadata": {},
   "source": [
    "Pour ce projet, nous disposons d'un ensemble de données comprenant environ 99 000 annonces de produits au format CSV, qui se divise en deux ensembles : un ensemble d'entraînement et un ensemble de test. Voici les détails des données :"
   ]
  },
  {
   "cell_type": "markdown",
   "id": "61236796",
   "metadata": {},
   "source": [
    "<h4><font size=4> 1.2.1. Le jeu de données textuel <a name=\"Donnees_Textuelles\"></a></h4>"
   ]
  },
  {
   "cell_type": "markdown",
   "id": "837e21fc",
   "metadata": {},
   "source": [
    "**Ensemble d'Entraînement (X_train.csv et Y_train.csv) :**\n",
    "   - **X_train.csv** : Contient les informations d'entrée pour l'entraînement, avec les colonnes suivantes :\n",
    "     - **ID** : Un identifiant entier pour chaque produit.\n",
    "     - **designation** : Le titre du produit, un texte court résumant le produit.\n",
    "     - **description** : Un texte plus détaillé décrivant le produit (peut contenir des valeurs manquantes).\n",
    "     - **productid** : Un identifiant unique pour le produit.\n",
    "     - **imageid** : Un identifiant unique pour l'image associée au produit.\n",
    "   - **Y_train.csv** : Contient les sorties d'entraînement, avec la colonne :\n",
    "     - **prdtypecode** : Le code de type de produit correspondant à chaque ID dans X_train.csv.  "
   ]
  },
  {
   "cell_type": "markdown",
   "id": "eedaf403",
   "metadata": {},
   "source": [
    "**Ensemble de Test (X_test.csv) :**\n",
    "   - **X_test.csv** : Contient les informations d'entrée pour le test, avec la même structure que X_train.csv. Les participants doivent prédire les codes de type de produit pour cet ensemble."
   ]
  },
  {
   "cell_type": "markdown",
   "id": "cf73b164",
   "metadata": {},
   "source": [
    "**Exemple de Données :**\n",
    "- **X_train.csv** :\n"
   ]
  },
  {
   "cell_type": "code",
   "execution_count": 4,
   "id": "ce18216e",
   "metadata": {},
   "outputs": [
    {
     "data": {
      "text/html": [
       "<div>\n",
       "<style scoped>\n",
       "    .dataframe tbody tr th:only-of-type {\n",
       "        vertical-align: middle;\n",
       "    }\n",
       "\n",
       "    .dataframe tbody tr th {\n",
       "        vertical-align: top;\n",
       "    }\n",
       "\n",
       "    .dataframe thead th {\n",
       "        text-align: right;\n",
       "    }\n",
       "</style>\n",
       "<table border=\"1\" class=\"dataframe\">\n",
       "  <thead>\n",
       "    <tr style=\"text-align: right;\">\n",
       "      <th></th>\n",
       "      <th>designation</th>\n",
       "      <th>description</th>\n",
       "      <th>productid</th>\n",
       "      <th>imageid</th>\n",
       "    </tr>\n",
       "  </thead>\n",
       "  <tbody>\n",
       "    <tr>\n",
       "      <th>0</th>\n",
       "      <td>Olivia: Personalisiertes Notizbuch / 150 Seite...</td>\n",
       "      <td>NaN</td>\n",
       "      <td>3804725264</td>\n",
       "      <td>1263597046</td>\n",
       "    </tr>\n",
       "    <tr>\n",
       "      <th>1</th>\n",
       "      <td>Journal Des Arts (Le) N° 133 Du 28/09/2001 - L...</td>\n",
       "      <td>NaN</td>\n",
       "      <td>436067568</td>\n",
       "      <td>1008141237</td>\n",
       "    </tr>\n",
       "  </tbody>\n",
       "</table>\n",
       "</div>"
      ],
      "text/plain": [
       "                                         designation description   productid  \\\n",
       "0  Olivia: Personalisiertes Notizbuch / 150 Seite...         NaN  3804725264   \n",
       "1  Journal Des Arts (Le) N° 133 Du 28/09/2001 - L...         NaN   436067568   \n",
       "\n",
       "      imageid  \n",
       "0  1263597046  \n",
       "1  1008141237  "
      ]
     },
     "execution_count": 4,
     "metadata": {},
     "output_type": "execute_result"
    }
   ],
   "source": [
    "X_train = pd.read_csv(\"../data/X_train_update.csv\", sep=\",\").drop([\"Unnamed: 0\"], axis=1)\n",
    "X_train.head(2)"
   ]
  },
  {
   "cell_type": "markdown",
   "id": "5c41064a",
   "metadata": {},
   "source": [
    "- **Y_train.csv** :"
   ]
  },
  {
   "cell_type": "code",
   "execution_count": 5,
   "id": "44318062",
   "metadata": {},
   "outputs": [
    {
     "data": {
      "text/html": [
       "<div>\n",
       "<style scoped>\n",
       "    .dataframe tbody tr th:only-of-type {\n",
       "        vertical-align: middle;\n",
       "    }\n",
       "\n",
       "    .dataframe tbody tr th {\n",
       "        vertical-align: top;\n",
       "    }\n",
       "\n",
       "    .dataframe thead th {\n",
       "        text-align: right;\n",
       "    }\n",
       "</style>\n",
       "<table border=\"1\" class=\"dataframe\">\n",
       "  <thead>\n",
       "    <tr style=\"text-align: right;\">\n",
       "      <th></th>\n",
       "      <th>prdtypecode</th>\n",
       "    </tr>\n",
       "  </thead>\n",
       "  <tbody>\n",
       "    <tr>\n",
       "      <th>0</th>\n",
       "      <td>10</td>\n",
       "    </tr>\n",
       "    <tr>\n",
       "      <th>1</th>\n",
       "      <td>2280</td>\n",
       "    </tr>\n",
       "  </tbody>\n",
       "</table>\n",
       "</div>"
      ],
      "text/plain": [
       "   prdtypecode\n",
       "0           10\n",
       "1         2280"
      ]
     },
     "execution_count": 5,
     "metadata": {},
     "output_type": "execute_result"
    }
   ],
   "source": [
    "Y_train = pd.read_csv(\"../data/Y_train.csv\", sep=\",\").drop([\"Unnamed: 0\"], axis=1)\n",
    "Y_train.head(2)"
   ]
  },
  {
   "cell_type": "markdown",
   "id": "6dbd3279",
   "metadata": {},
   "source": [
    "Cette structure de données permet d'associer chaque produit à ses caractéristiques textuelles et visuelles, facilitant ainsi le développement d'un modèle de classification efficace pour prédire les codes de type de produit."
   ]
  },
  {
   "cell_type": "markdown",
   "id": "393ec9fc",
   "metadata": {},
   "source": [
    "<h4><font size=4> 1.2.2. Le jeu de données visuel\n",
    "    <a name=\"Donnees_Visuelles\"></a></h4>"
   ]
  },
  {
   "cell_type": "markdown",
   "id": "d8d1119c",
   "metadata": {},
   "source": [
    "**Images :**\n",
    "   - Un fichier compressé (images.zip) contenant toutes les images associées aux produits. Après décompression, deux sous-dossiers sont créés :\n",
    "     - **image_train** : Contient les images des produits de l'ensemble d'entraînement.\n",
    "     - **image_test** : Contient les images des produits de l'ensemble de test.\n",
    "   - Les noms de fichiers d'images suivent le format : `image_imageid_product_productid.jpg`."
   ]
  },
  {
   "cell_type": "markdown",
   "id": "1fb26152",
   "metadata": {},
   "source": [
    "<h3><font size=5> 1.3. Visualisation des données <a name=\"VizDonnees\"></a></h3>"
   ]
  },
  {
   "cell_type": "markdown",
   "id": "15cd4f20",
   "metadata": {},
   "source": [
    "Nous allons maintenant faire un peu de visualisation sur les différentes bases de données pour déceler de potentiels pattern."
   ]
  },
  {
   "cell_type": "markdown",
   "id": "d0489fef",
   "metadata": {},
   "source": [
    "<h4><font size=4> 1.3.1. Analyse préliminaire\n",
    "    <a name=\"Analyse_Preli\"></a></h4>"
   ]
  },
  {
   "cell_type": "markdown",
   "id": "74e3b442",
   "metadata": {},
   "source": [
    "Dans cette étape de notre projet, nous allons procéder à une analyse préliminaire des bases de données. Nous examinerons tout d'abord le nombre de valeurs manquantes présentes dans les ensembles de données. Ensuite, nous vérifierons si tous les éléments du jeu de données textuels sont correctement associés à une image correspondante dans le jeu de données visuels."
   ]
  },
  {
   "cell_type": "code",
   "execution_count": 6,
   "id": "40fb5038",
   "metadata": {},
   "outputs": [
    {
     "name": "stdout",
     "output_type": "stream",
     "text": [
      "<class 'pandas.core.frame.DataFrame'>\n",
      "RangeIndex: 84916 entries, 0 to 84915\n",
      "Data columns (total 4 columns):\n",
      " #   Column       Non-Null Count  Dtype \n",
      "---  ------       --------------  ----- \n",
      " 0   designation  84916 non-null  object\n",
      " 1   description  55116 non-null  object\n",
      " 2   productid    84916 non-null  int64 \n",
      " 3   imageid      84916 non-null  int64 \n",
      "dtypes: int64(2), object(2)\n",
      "memory usage: 2.6+ MB\n",
      "\n",
      "Pourcentage de données manquantes : 35.09%\n"
     ]
    }
   ],
   "source": [
    "X_train.info()\n",
    "\n",
    "# Calculer le pourcentage de données manquantes\n",
    "pourcentage_manquant = X_train[\"description\"].isnull().mean() * 100\n",
    "print(f\"\\nPourcentage de données manquantes : {pourcentage_manquant:.2f}%\")"
   ]
  },
  {
   "cell_type": "markdown",
   "id": "46e10a7f",
   "metadata": {},
   "source": [
    "On remarque qu'il y a environ 35% de produits qui n'ont pas de description. Ce pourcentage étant élevé, on verra par la suite comment on le prendra en compte :\n",
    "- Allons-nous supprimer ces données manquantes ? \n",
    "- Ces descriptions manquantes sont-elles associés à des types de produits particuliers ?\n",
    "\n",
    "Checkons maintenant si tous nos produits sont associés à une image."
   ]
  },
  {
   "cell_type": "code",
   "execution_count": 8,
   "id": "e47fd684",
   "metadata": {},
   "outputs": [
    {
     "name": "stdout",
     "output_type": "stream",
     "text": [
      "Nombre de lignes totales : 84916\n",
      "Nombre de lignes associées à une image : 84916\n"
     ]
    }
   ],
   "source": [
    "# Lister les fichiers d'images dans le dossier\n",
    "fichiers_images = os.listdir(\"../data/images/image_train\")\n",
    "\n",
    "# Construire les noms d'images attendus\n",
    "X_train['nom_image'] = 'image_' + X_train['imageid'].astype(str) + '_product_' + X_train['productid'].astype(str) + '.jpg'\n",
    "\n",
    "# Vérifier combien de noms d'images sont présents dans le dossier\n",
    "X_train['image_existe'] = X_train['nom_image'].isin(fichiers_images)\n",
    "\n",
    "# Compter le nombre de lignes associées à une image\n",
    "nombre_lignes_associees = X_train['image_existe'].sum()\n",
    "\n",
    "print(f\"Nombre de lignes totales : {len(X_train)}\")\n",
    "print(f'Nombre de lignes associées à une image : {nombre_lignes_associees}')"
   ]
  },
  {
   "cell_type": "markdown",
   "id": "8430b335",
   "metadata": {},
   "source": [
    "On remarque qu'effectivement, tout le jeu de données textuel est bien associé à une image du jeu de données visuel."
   ]
  },
  {
   "cell_type": "code",
   "execution_count": null,
   "id": "36ce063f",
   "metadata": {},
   "outputs": [],
   "source": []
  },
  {
   "cell_type": "code",
   "execution_count": null,
   "id": "4e993198",
   "metadata": {},
   "outputs": [],
   "source": []
  },
  {
   "cell_type": "code",
   "execution_count": null,
   "id": "aa8ac257",
   "metadata": {},
   "outputs": [],
   "source": []
  },
  {
   "cell_type": "code",
   "execution_count": null,
   "id": "1addf87e",
   "metadata": {},
   "outputs": [],
   "source": []
  }
 ],
 "metadata": {
  "kernelspec": {
   "display_name": "Python 3 (ipykernel)",
   "language": "python",
   "name": "python3"
  },
  "language_info": {
   "codemirror_mode": {
    "name": "ipython",
    "version": 3
   },
   "file_extension": ".py",
   "mimetype": "text/x-python",
   "name": "python",
   "nbconvert_exporter": "python",
   "pygments_lexer": "ipython3",
   "version": "3.11.5"
  }
 },
 "nbformat": 4,
 "nbformat_minor": 5
}
