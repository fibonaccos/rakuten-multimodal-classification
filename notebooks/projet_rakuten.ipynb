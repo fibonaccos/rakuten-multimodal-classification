{
 "cells": [
  {
   "cell_type": "markdown",
   "id": "13fa6b96",
   "metadata": {},
   "source": [
    "<h1><font color=darkred size=6><center> $\\fbox{Classification Multimodale - Rakuten}$ </center></h1>\n",
    "<font color=dimgrey size=3><center> $Bryan, \\space Rizlène, \\space Romain\\space et \\space Steeve$ </center></h1>"
   ]
  },
  {
   "cell_type": "markdown",
   "id": "69efdc2c",
   "metadata": {},
   "source": [
    "# Table des matières\n",
    "\n",
    "## [Importation des librairies](#Imp)\n",
    "\n",
    "## [1. Analyse Descriptive](#Analyse)\n",
    "- [1.1. Problématique](#Problématique)\n",
    "- [1.2. Présentation des données](#PrezDonnees)\n",
    "    - [1.2.1. Le jeu de données textuel](#Donnees_Textuelles)\n",
    "    - [1.2.2. Le jeu de données visuel](#Donnees_Visuelles)\n",
    "- [1.3. Visualisation des données](#VizDonnees)\n",
    "    - [1.3.1. Analyse préliminaire](#Analyse_Preli)\n",
    "    - [1.3.2. Distribution des types de produits](#Distribution_Produits)\n",
    "\n",
    "    \n",
    "## [Bibliographies](#Bibli)"
   ]
  },
  {
   "cell_type": "markdown",
   "id": "4e730b4c",
   "metadata": {},
   "source": [
    "<h2><font size=6> Importation des librairies<a name=\"Imp\"></a></h2>"
   ]
  },
  {
   "cell_type": "code",
   "execution_count": 1,
   "id": "f2a1c3e5",
   "metadata": {},
   "outputs": [],
   "source": [
    "import os\n",
    "import csv\n",
    "import pandas as pd\n",
    "import warnings\n",
    "import matplotlib.pyplot as plt\n",
    "import matplotlib.image as mpimg\n",
    "\n",
    "warnings.filterwarnings('ignore')\n",
    "pd.options.display.max_rows = 500\n",
    "pd.options.display.max_columns = None"
   ]
  },
  {
   "cell_type": "markdown",
   "id": "e5d5ec8e",
   "metadata": {},
   "source": [
    "<h2><font size=6> 1. Analyse Descriptive <a name=\"Analyse\"></a></h2>"
   ]
  },
  {
   "cell_type": "markdown",
   "id": "10d4e7a2",
   "metadata": {},
   "source": [
    "<h3><font size=5> 1.1. Problématique <a name=\"Problématique\"></a></h3>"
   ]
  },
  {
   "cell_type": "markdown",
   "id": "52ed5cd3",
   "metadata": {},
   "source": [
    "Dans le cadre de ce projet, nous nous intéressons à la classification multimodale à grande échelle des produits sur la plateforme Rakuten France, en utilisant à la fois des données textuelles et visuelles. La problématique centrale réside dans la nécessité de catégoriser efficacement un vaste catalogue de produits, qui comprend des titres, des descriptions et des images, en codes de type de produit spécifiques. Cette tâche est d'une importance cruciale pour améliorer la recherche personnalisée et les recommandations, tout en faisant face aux défis liés à la diversité des produits, à la qualité variable des données et à la distribution déséquilibrée des classes. L'objectif est de développer un modèle de classification capable de traiter ces informations hétérogènes afin de réduire la duplication et d'optimiser l'expérience utilisateur sur la plateforme."
   ]
  },
  {
   "cell_type": "markdown",
   "id": "ec8418b5",
   "metadata": {},
   "source": [
    "<h3><font size=5> 1.2. Présentation des données <a name=\"PrezDonnees\"></a></h3>"
   ]
  },
  {
   "cell_type": "markdown",
   "id": "f4e9f741",
   "metadata": {},
   "source": [
    "Pour ce projet, nous disposons d'un ensemble de données comprenant environ 99 000 annonces de produits au format CSV, qui se divise en deux ensembles : un ensemble d'entraînement et un ensemble de test. Voici les détails des données :"
   ]
  },
  {
   "cell_type": "markdown",
   "id": "61236796",
   "metadata": {},
   "source": [
    "<h4><font size=4> 1.2.1. Le jeu de données textuel <a name=\"Donnees_Textuelles\"></a></h4>"
   ]
  },
  {
   "cell_type": "markdown",
   "id": "837e21fc",
   "metadata": {},
   "source": [
    "**Ensemble d'Entraînement (X_train.csv et Y_train.csv) :**\n",
    "   - **X_train.csv** : Contient les informations d'entrée pour l'entraînement, avec les colonnes suivantes :\n",
    "     - **ID** : Un identifiant entier pour chaque produit.\n",
    "     - **designation** : Le titre du produit, un texte court résumant le produit.\n",
    "     - **description** : Un texte plus détaillé décrivant le produit (peut contenir des valeurs manquantes).\n",
    "     - **productid** : Un identifiant unique pour le produit.\n",
    "     - **imageid** : Un identifiant unique pour l'image associée au produit.\n",
    "   - **Y_train.csv** : Contient les sorties d'entraînement, avec la colonne :\n",
    "     - **prdtypecode** : Le code de type de produit correspondant à chaque ID dans X_train.csv.  "
   ]
  },
  {
   "cell_type": "markdown",
   "id": "eedaf403",
   "metadata": {},
   "source": [
    "**Ensemble de Test (X_test.csv) :**\n",
    "   - **X_test.csv** : Contient les informations d'entrée pour le test, avec la même structure que X_train.csv. Les participants doivent prédire les codes de type de produit pour cet ensemble."
   ]
  },
  {
   "cell_type": "markdown",
   "id": "cf73b164",
   "metadata": {},
   "source": [
    "**Exemple de Données :**\n",
    "- **X_train.csv** :\n"
   ]
  },
  {
   "cell_type": "code",
   "execution_count": 2,
   "id": "ce18216e",
   "metadata": {},
   "outputs": [
    {
     "data": {
      "text/html": [
       "<div>\n",
       "<style scoped>\n",
       "    .dataframe tbody tr th:only-of-type {\n",
       "        vertical-align: middle;\n",
       "    }\n",
       "\n",
       "    .dataframe tbody tr th {\n",
       "        vertical-align: top;\n",
       "    }\n",
       "\n",
       "    .dataframe thead th {\n",
       "        text-align: right;\n",
       "    }\n",
       "</style>\n",
       "<table border=\"1\" class=\"dataframe\">\n",
       "  <thead>\n",
       "    <tr style=\"text-align: right;\">\n",
       "      <th></th>\n",
       "      <th>designation</th>\n",
       "      <th>description</th>\n",
       "      <th>productid</th>\n",
       "      <th>imageid</th>\n",
       "    </tr>\n",
       "  </thead>\n",
       "  <tbody>\n",
       "    <tr>\n",
       "      <th>0</th>\n",
       "      <td>Olivia: Personalisiertes Notizbuch / 150 Seite...</td>\n",
       "      <td>NaN</td>\n",
       "      <td>3804725264</td>\n",
       "      <td>1263597046</td>\n",
       "    </tr>\n",
       "    <tr>\n",
       "      <th>1</th>\n",
       "      <td>Journal Des Arts (Le) N° 133 Du 28/09/2001 - L...</td>\n",
       "      <td>NaN</td>\n",
       "      <td>436067568</td>\n",
       "      <td>1008141237</td>\n",
       "    </tr>\n",
       "  </tbody>\n",
       "</table>\n",
       "</div>"
      ],
      "text/plain": [
       "                                         designation description   productid  \\\n",
       "0  Olivia: Personalisiertes Notizbuch / 150 Seite...         NaN  3804725264   \n",
       "1  Journal Des Arts (Le) N° 133 Du 28/09/2001 - L...         NaN   436067568   \n",
       "\n",
       "      imageid  \n",
       "0  1263597046  \n",
       "1  1008141237  "
      ]
     },
     "execution_count": 2,
     "metadata": {},
     "output_type": "execute_result"
    }
   ],
   "source": [
    "X_train = pd.read_csv(\"../data/X_train_update.csv\", sep=\",\").drop([\"Unnamed: 0\"], axis=1)\n",
    "X_train.head(2)"
   ]
  },
  {
   "cell_type": "markdown",
   "id": "5c41064a",
   "metadata": {},
   "source": [
    "- **Y_train.csv** :"
   ]
  },
  {
   "cell_type": "code",
   "execution_count": 3,
   "id": "44318062",
   "metadata": {},
   "outputs": [
    {
     "data": {
      "text/html": [
       "<div>\n",
       "<style scoped>\n",
       "    .dataframe tbody tr th:only-of-type {\n",
       "        vertical-align: middle;\n",
       "    }\n",
       "\n",
       "    .dataframe tbody tr th {\n",
       "        vertical-align: top;\n",
       "    }\n",
       "\n",
       "    .dataframe thead th {\n",
       "        text-align: right;\n",
       "    }\n",
       "</style>\n",
       "<table border=\"1\" class=\"dataframe\">\n",
       "  <thead>\n",
       "    <tr style=\"text-align: right;\">\n",
       "      <th></th>\n",
       "      <th>prdtypecode</th>\n",
       "    </tr>\n",
       "  </thead>\n",
       "  <tbody>\n",
       "    <tr>\n",
       "      <th>0</th>\n",
       "      <td>10</td>\n",
       "    </tr>\n",
       "    <tr>\n",
       "      <th>1</th>\n",
       "      <td>2280</td>\n",
       "    </tr>\n",
       "  </tbody>\n",
       "</table>\n",
       "</div>"
      ],
      "text/plain": [
       "   prdtypecode\n",
       "0           10\n",
       "1         2280"
      ]
     },
     "execution_count": 3,
     "metadata": {},
     "output_type": "execute_result"
    }
   ],
   "source": [
    "Y_train = pd.read_csv(\"../data/Y_train.csv\", sep=\",\").drop([\"Unnamed: 0\"], axis=1)\n",
    "Y_train.head(2)"
   ]
  },
  {
   "cell_type": "markdown",
   "id": "6dbd3279",
   "metadata": {},
   "source": [
    "Cette structure de données permet d'associer chaque produit à ses caractéristiques textuelles et visuelles, facilitant ainsi le développement d'un modèle de classification efficace pour prédire les codes de type de produit."
   ]
  },
  {
   "cell_type": "markdown",
   "id": "393ec9fc",
   "metadata": {},
   "source": [
    "<h4><font size=4> 1.2.2. Le jeu de données visuel\n",
    "    <a name=\"Donnees_Visuelles\"></a></h4>"
   ]
  },
  {
   "cell_type": "markdown",
   "id": "d8d1119c",
   "metadata": {},
   "source": [
    "**Images :**\n",
    "   - Un fichier compressé (images.zip) contenant toutes les images associées aux produits. Après décompression, deux sous-dossiers sont créés :\n",
    "     - **image_train** : Contient les images des produits de l'ensemble d'entraînement.\n",
    "     - **image_test** : Contient les images des produits de l'ensemble de test.\n",
    "   - Les noms de fichiers d'images suivent le format : `image_imageid_product_productid.jpg`."
   ]
  },
  {
   "cell_type": "markdown",
   "id": "1fb26152",
   "metadata": {},
   "source": [
    "<h3><font size=5> 1.3. Visualisation des données <a name=\"VizDonnees\"></a></h3>"
   ]
  },
  {
   "cell_type": "markdown",
   "id": "15cd4f20",
   "metadata": {},
   "source": [
    "Nous allons maintenant faire un peu de visualisation sur les différentes bases de données pour déceler de potentiels pattern."
   ]
  },
  {
   "cell_type": "markdown",
   "id": "d0489fef",
   "metadata": {},
   "source": [
    "<h4><font size=4> 1.3.1. Analyse préliminaire\n",
    "    <a name=\"Analyse_Preli\"></a></h4>"
   ]
  },
  {
   "cell_type": "markdown",
   "id": "74e3b442",
   "metadata": {},
   "source": [
    "Dans cette étape de notre projet, nous allons procéder à une analyse préliminaire des bases de données. Nous examinerons tout d'abord le nombre de valeurs manquantes présentes dans les ensembles de données. Ensuite, nous vérifierons si tous les éléments du jeu de données textuels sont correctement associés à une image correspondante dans le jeu de données visuels."
   ]
  },
  {
   "cell_type": "code",
   "execution_count": 4,
   "id": "40fb5038",
   "metadata": {},
   "outputs": [
    {
     "name": "stdout",
     "output_type": "stream",
     "text": [
      "<class 'pandas.core.frame.DataFrame'>\n",
      "RangeIndex: 84916 entries, 0 to 84915\n",
      "Data columns (total 4 columns):\n",
      " #   Column       Non-Null Count  Dtype \n",
      "---  ------       --------------  ----- \n",
      " 0   designation  84916 non-null  object\n",
      " 1   description  55116 non-null  object\n",
      " 2   productid    84916 non-null  int64 \n",
      " 3   imageid      84916 non-null  int64 \n",
      "dtypes: int64(2), object(2)\n",
      "memory usage: 2.6+ MB\n",
      "\n",
      "Pourcentage de données manquantes : 35.09%\n"
     ]
    }
   ],
   "source": [
    "X_train.info()\n",
    "\n",
    "# Calculer le pourcentage de données manquantes\n",
    "pourcentage_manquant = X_train[\"description\"].isnull().mean() * 100\n",
    "print(f\"\\nPourcentage de données manquantes : {pourcentage_manquant:.2f}%\")"
   ]
  },
  {
   "cell_type": "markdown",
   "id": "5be0fbf3",
   "metadata": {},
   "source": [
    "On remarque qu'il y a environ 35% de produits qui n'ont pas de description. Ce pourcentage étant élevé, on verra par la suite comment on le prendra en compte :\n",
    "- Allons-nous supprimer ces données manquantes ? \n",
    "- Ces descriptions manquantes sont-elles associés à des types de produits particuliers ?\n",
    "\n",
    "Checkons maintenant si tous nos produits sont associés à une image."
   ]
  },
  {
   "cell_type": "code",
   "execution_count": 5,
   "id": "e47fd684",
   "metadata": {},
   "outputs": [
    {
     "name": "stdout",
     "output_type": "stream",
     "text": [
      "Nombre de lignes totales : 84916\n",
      "Nombre de lignes associées à une image : 84916\n"
     ]
    }
   ],
   "source": [
    "# Lister les fichiers d'images dans le dossier\n",
    "fichiers_images = os.listdir(\"../data/images/image_train\")\n",
    "\n",
    "# Construire les noms d'images attendus\n",
    "X_train['nom_image'] = 'image_' + X_train['imageid'].astype(str) + '_product_' + X_train['productid'].astype(str) + '.jpg'\n",
    "\n",
    "# Vérifier combien de noms d'images sont présents dans le dossier\n",
    "X_train['image_existe'] = X_train['nom_image'].isin(fichiers_images)\n",
    "\n",
    "# Compter le nombre de lignes associées à une image\n",
    "nombre_lignes_associees = X_train['image_existe'].sum()\n",
    "\n",
    "print(f\"Nombre de lignes totales : {len(X_train)}\")\n",
    "print(f'Nombre de lignes associées à une image : {nombre_lignes_associees}')"
   ]
  },
  {
   "cell_type": "markdown",
   "id": "8430b335",
   "metadata": {},
   "source": [
    "On remarque qu'effectivement, tout le jeu de données textuel est bien associé à une image du jeu de données visuel."
   ]
  },
  {
   "cell_type": "markdown",
   "id": "8936a991",
   "metadata": {},
   "source": [
    "<h4><font size=4> 1.3.2. Distribution des types de produits\n",
    "    <a name=\"Distribution_Produits\"></a></h4>"
   ]
  },
  {
   "cell_type": "code",
   "execution_count": 6,
   "id": "36ce063f",
   "metadata": {},
   "outputs": [
    {
     "name": "stdout",
     "output_type": "stream",
     "text": [
      "Nombre de types de produits : 27\n",
      "\n",
      "prdtypecode\n",
      "2583    10209\n",
      "1560     5073\n",
      "1300     5045\n",
      "2060     4993\n",
      "2522     4989\n",
      "1280     4870\n",
      "2403     4774\n",
      "2280     4760\n",
      "1920     4303\n",
      "1160     3953\n",
      "1320     3241\n",
      "10       3116\n",
      "2705     2761\n",
      "1140     2671\n",
      "2582     2589\n",
      "40       2508\n",
      "2585     2496\n",
      "1302     2491\n",
      "1281     2070\n",
      "50       1681\n",
      "2462     1421\n",
      "2905      872\n",
      "60        832\n",
      "2220      824\n",
      "1301      807\n",
      "1940      803\n",
      "1180      764\n",
      "Name: count, dtype: int64\n"
     ]
    }
   ],
   "source": [
    "# Compter le nombre d'occurrences de chaque type de produit\n",
    "type_counts = Y_train['prdtypecode'].value_counts()\n",
    "\n",
    "print(f\"Nombre de types de produits : {len(type_counts)}\\n\")\n",
    "print(type_counts)"
   ]
  },
  {
   "cell_type": "markdown",
   "id": "015c083f",
   "metadata": {},
   "source": [
    "On remarque que les 27 types de produits qu'il y a sont très déséquillibrés. Regardons visuellement ce que ça donne :"
   ]
  },
  {
   "cell_type": "code",
   "execution_count": 7,
   "id": "e0a05b0a",
   "metadata": {},
   "outputs": [
    {
     "data": {
      "image/png": "[encoded data removed]",
      "text/plain": [
       "<Figure size 1200x600 with 1 Axes>"
      ]
     },
     "metadata": {},
     "output_type": "display_data"
    }
   ],
   "source": [
    "# Créer l'histogramme\n",
    "plt.figure(figsize=(12, 6))\n",
    "type_counts.plot(kind='bar')\n",
    "plt.title('Distribution des Types de Produits')\n",
    "plt.xlabel('Type de Produit')\n",
    "plt.ylabel('Nombre d\\'Occurrences')\n",
    "plt.xticks(rotation=45)\n",
    "plt.grid(axis='y')\n",
    "\n",
    "# Afficher le graphique\n",
    "plt.tight_layout()\n",
    "plt.show()"
   ]
  },
  {
   "cell_type": "markdown",
   "id": "e56caa90",
   "metadata": {},
   "source": [
    "Regardons de plus près à quoi correspond les produits de type 2583 :"
   ]
  },
  {
   "cell_type": "code",
   "execution_count": 8,
   "id": "c5545052",
   "metadata": {},
   "outputs": [],
   "source": [
    "# Réinitialiser l'index pour créer une colonne d'index\n",
    "X_train.reset_index(drop=False, inplace=True)\n",
    "Y_train.reset_index(drop=False, inplace=True)"
   ]
  },
  {
   "cell_type": "code",
   "execution_count": 9,
   "id": "ba6ffb4f",
   "metadata": {},
   "outputs": [
    {
     "data": {
      "text/html": [
       "<div>\n",
       "<style scoped>\n",
       "    .dataframe tbody tr th:only-of-type {\n",
       "        vertical-align: middle;\n",
       "    }\n",
       "\n",
       "    .dataframe tbody tr th {\n",
       "        vertical-align: top;\n",
       "    }\n",
       "\n",
       "    .dataframe thead th {\n",
       "        text-align: right;\n",
       "    }\n",
       "</style>\n",
       "<table border=\"1\" class=\"dataframe\">\n",
       "  <thead>\n",
       "    <tr style=\"text-align: right;\">\n",
       "      <th></th>\n",
       "      <th>index</th>\n",
       "      <th>designation</th>\n",
       "      <th>description</th>\n",
       "      <th>productid</th>\n",
       "      <th>imageid</th>\n",
       "      <th>nom_image</th>\n",
       "      <th>image_existe</th>\n",
       "      <th>prdtypecode</th>\n",
       "    </tr>\n",
       "  </thead>\n",
       "  <tbody>\n",
       "    <tr>\n",
       "      <th>20</th>\n",
       "      <td>20</td>\n",
       "      <td>Kit de désinfection pour piscines enfants 20990</td>\n",
       "      <td>NaN</td>\n",
       "      <td>3936362802</td>\n",
       "      <td>1268740880</td>\n",
       "      <td>image_1268740880_product_3936362802.jpg</td>\n",
       "      <td>True</td>\n",
       "      <td>2583</td>\n",
       "    </tr>\n",
       "    <tr>\n",
       "      <th>39</th>\n",
       "      <td>39</td>\n",
       "      <td>Bouée gonflable River tube - OOGARDEN</td>\n",
       "      <td>Bouée gonflable River tube en PVC idéale pour ...</td>\n",
       "      <td>3147314797</td>\n",
       "      <td>1225887302</td>\n",
       "      <td>image_1225887302_product_3147314797.jpg</td>\n",
       "      <td>True</td>\n",
       "      <td>2583</td>\n",
       "    </tr>\n",
       "    <tr>\n",
       "      <th>53</th>\n",
       "      <td>53</td>\n",
       "      <td>Testeur électronique de pH</td>\n",
       "      <td>Utilisation du Testeur électronique de pHGrâce...</td>\n",
       "      <td>207151480</td>\n",
       "      <td>941622055</td>\n",
       "      <td>image_941622055_product_207151480.jpg</td>\n",
       "      <td>True</td>\n",
       "      <td>2583</td>\n",
       "    </tr>\n",
       "    <tr>\n",
       "      <th>58</th>\n",
       "      <td>58</td>\n",
       "      <td>Pompe de filtration Speck Badu 95</td>\n",
       "      <td>NaN</td>\n",
       "      <td>4128438373</td>\n",
       "      <td>1295960377</td>\n",
       "      <td>image_1295960377_product_4128438373.jpg</td>\n",
       "      <td>True</td>\n",
       "      <td>2583</td>\n",
       "    </tr>\n",
       "    <tr>\n",
       "      <th>64</th>\n",
       "      <td>64</td>\n",
       "      <td>AstralCom 1 CV Mono de DAB - Surpresseur piscine</td>\n",
       "      <td>Tension (V) : Monophasé - 230 V  Puissance : 1...</td>\n",
       "      <td>1857269337</td>\n",
       "      <td>1105831362</td>\n",
       "      <td>image_1105831362_product_1857269337.jpg</td>\n",
       "      <td>True</td>\n",
       "      <td>2583</td>\n",
       "    </tr>\n",
       "    <tr>\n",
       "      <th>65</th>\n",
       "      <td>65</td>\n",
       "      <td>Lot de 8 préfiltres jetables pour panier de sk...</td>\n",
       "      <td>Lots de 8 pré-filtres jetables de la marque Ma...</td>\n",
       "      <td>2534214666</td>\n",
       "      <td>1190251480</td>\n",
       "      <td>image_1190251480_product_2534214666.jpg</td>\n",
       "      <td>True</td>\n",
       "      <td>2583</td>\n",
       "    </tr>\n",
       "    <tr>\n",
       "      <th>70</th>\n",
       "      <td>70</td>\n",
       "      <td>Piscine gonflable de pulvérisation Forme Tortu...</td>\n",
       "      <td>&lt;p&gt;Cette merveilleuse piscine de pulvérisation...</td>\n",
       "      <td>3929890128</td>\n",
       "      <td>1265209491</td>\n",
       "      <td>image_1265209491_product_3929890128.jpg</td>\n",
       "      <td>True</td>\n",
       "      <td>2583</td>\n",
       "    </tr>\n",
       "    <tr>\n",
       "      <th>84</th>\n",
       "      <td>84</td>\n",
       "      <td>Bâche hiver pour piscine Toledo - 280 gr/m² - ...</td>\n",
       "      <td>&lt;p&gt;Bâche hiver pour piscine Toledo - 280 g/m² ...</td>\n",
       "      <td>1158987675</td>\n",
       "      <td>1065997226</td>\n",
       "      <td>image_1065997226_product_1158987675.jpg</td>\n",
       "      <td>True</td>\n",
       "      <td>2583</td>\n",
       "    </tr>\n",
       "    <tr>\n",
       "      <th>90</th>\n",
       "      <td>90</td>\n",
       "      <td>Idrasoft 5600 SXT - 30 L de marque Idrania - C...</td>\n",
       "      <td>Idrasoft 5600 SXT - 30 L de Idrania - Adouciss...</td>\n",
       "      <td>2050109964</td>\n",
       "      <td>1123155510</td>\n",
       "      <td>image_1123155510_product_2050109964.jpg</td>\n",
       "      <td>True</td>\n",
       "      <td>2583</td>\n",
       "    </tr>\n",
       "    <tr>\n",
       "      <th>91</th>\n",
       "      <td>91</td>\n",
       "      <td>Bâche de piscine bleue rectangulaire en PE 450...</td>\n",
       "      <td>Cette bâche solaire de piscine repose directem...</td>\n",
       "      <td>3855161611</td>\n",
       "      <td>1253151856</td>\n",
       "      <td>image_1253151856_product_3855161611.jpg</td>\n",
       "      <td>True</td>\n",
       "      <td>2583</td>\n",
       "    </tr>\n",
       "  </tbody>\n",
       "</table>\n",
       "</div>"
      ],
      "text/plain": [
       "    index                                        designation  \\\n",
       "20     20    Kit de désinfection pour piscines enfants 20990   \n",
       "39     39              Bouée gonflable River tube - OOGARDEN   \n",
       "53     53                         Testeur électronique de pH   \n",
       "58     58                  Pompe de filtration Speck Badu 95   \n",
       "64     64   AstralCom 1 CV Mono de DAB - Surpresseur piscine   \n",
       "65     65  Lot de 8 préfiltres jetables pour panier de sk...   \n",
       "70     70  Piscine gonflable de pulvérisation Forme Tortu...   \n",
       "84     84  Bâche hiver pour piscine Toledo - 280 gr/m² - ...   \n",
       "90     90  Idrasoft 5600 SXT - 30 L de marque Idrania - C...   \n",
       "91     91  Bâche de piscine bleue rectangulaire en PE 450...   \n",
       "\n",
       "                                          description   productid     imageid  \\\n",
       "20                                                NaN  3936362802  1268740880   \n",
       "39  Bouée gonflable River tube en PVC idéale pour ...  3147314797  1225887302   \n",
       "53  Utilisation du Testeur électronique de pHGrâce...   207151480   941622055   \n",
       "58                                                NaN  4128438373  1295960377   \n",
       "64  Tension (V) : Monophasé - 230 V  Puissance : 1...  1857269337  1105831362   \n",
       "65  Lots de 8 pré-filtres jetables de la marque Ma...  2534214666  1190251480   \n",
       "70  <p>Cette merveilleuse piscine de pulvérisation...  3929890128  1265209491   \n",
       "84  <p>Bâche hiver pour piscine Toledo - 280 g/m² ...  1158987675  1065997226   \n",
       "90  Idrasoft 5600 SXT - 30 L de Idrania - Adouciss...  2050109964  1123155510   \n",
       "91  Cette bâche solaire de piscine repose directem...  3855161611  1253151856   \n",
       "\n",
       "                                  nom_image  image_existe  prdtypecode  \n",
       "20  image_1268740880_product_3936362802.jpg          True         2583  \n",
       "39  image_1225887302_product_3147314797.jpg          True         2583  \n",
       "53    image_941622055_product_207151480.jpg          True         2583  \n",
       "58  image_1295960377_product_4128438373.jpg          True         2583  \n",
       "64  image_1105831362_product_1857269337.jpg          True         2583  \n",
       "65  image_1190251480_product_2534214666.jpg          True         2583  \n",
       "70  image_1265209491_product_3929890128.jpg          True         2583  \n",
       "84  image_1065997226_product_1158987675.jpg          True         2583  \n",
       "90  image_1123155510_product_2050109964.jpg          True         2583  \n",
       "91  image_1253151856_product_3855161611.jpg          True         2583  "
      ]
     },
     "execution_count": 9,
     "metadata": {},
     "output_type": "execute_result"
    }
   ],
   "source": [
    "# Joindre les DataFrames sur l'index\n",
    "merged_df = pd.merge(X_train, Y_train, left_on='index', right_on='index')\n",
    "\n",
    "# Filtrer pour obtenir les lignes correspondant au type de produit 2583\n",
    "produit_2583 = merged_df[merged_df['prdtypecode'] == 2583]\n",
    "\n",
    "# Afficher les résultats\n",
    "produit_2583.head(10)"
   ]
  },
  {
   "cell_type": "markdown",
   "id": "97d347a4",
   "metadata": {},
   "source": [
    "On remarque que le type 2583 correspond à des produits en rapport avec la piscine."
   ]
  },
  {
   "cell_type": "markdown",
   "id": "cfc8d03f",
   "metadata": {},
   "source": [
    "<h4><font size=4> 1.3.3. Distribution des valeurs manquantes selon le type de produits\n",
    "    <a name=\"Distribution_Manquantes_Produits\"></a></h4>"
   ]
  },
  {
   "cell_type": "code",
   "execution_count": 10,
   "id": "3e85b0e5",
   "metadata": {},
   "outputs": [
    {
     "name": "stdout",
     "output_type": "stream",
     "text": [
      "Nombre de types de produits : 26\n",
      "\n",
      "prdtypecode\n",
      "2403    4648\n",
      "2280    4440\n",
      "1160    3604\n",
      "10      2778\n",
      "1140    1726\n",
      "40      1642\n",
      "2462    1368\n",
      "2522    1189\n",
      "1300    1173\n",
      "1320    1101\n",
      "1280    1068\n",
      "2705    1025\n",
      "2583     903\n",
      "1180     611\n",
      "1281     492\n",
      "50       476\n",
      "2060     286\n",
      "1302     277\n",
      "1920     207\n",
      "2585     198\n",
      "1560     177\n",
      "60       133\n",
      "1301     105\n",
      "2220      66\n",
      "2582      62\n",
      "1940      45\n",
      "Name: count, dtype: int64\n"
     ]
    }
   ],
   "source": [
    "merged_df_null = merged_df[merged_df['description'].isnull()]\n",
    "\n",
    "# Compter le nombre d'occurrences de chaque type de produit\n",
    "type_counts_null = merged_df_null['prdtypecode'].value_counts()\n",
    "\n",
    "print(f\"Nombre de types de produits : {len(type_counts_null)}\\n\")\n",
    "print(type_counts_null)"
   ]
  },
  {
   "cell_type": "code",
   "execution_count": 11,
   "id": "d81aefae",
   "metadata": {},
   "outputs": [
    {
     "data": {
      "image/png": "[encoded data removed]",
      "text/plain": [
       "<Figure size 1200x600 with 1 Axes>"
      ]
     },
     "metadata": {},
     "output_type": "display_data"
    }
   ],
   "source": [
    "# Créer l'histogramme\n",
    "plt.figure(figsize=(12, 6))\n",
    "type_counts_null.plot(kind='bar')\n",
    "plt.title('Distribution des valeurs manquantes selon le Type de Produits')\n",
    "plt.xlabel('Type de Produit')\n",
    "plt.ylabel('Nombre d\\'Occurrences')\n",
    "plt.xticks(rotation=45)\n",
    "plt.grid(axis='y')\n",
    "\n",
    "# Afficher le graphique\n",
    "plt.tight_layout()\n",
    "plt.show()"
   ]
  },
  {
   "cell_type": "markdown",
   "id": "e7e9de91",
   "metadata": {},
   "source": [
    "Nous apprenons clairement quelque chose :\n",
    "- le type 2403 a quasiment tous ses elements sans descriptions 4648/4774\n",
    "\n",
    "Mais regardons de plus près le pourcentage manquant de chaque produit"
   ]
  },
  {
   "cell_type": "code",
   "execution_count": 15,
   "id": "4ef6d968",
   "metadata": {},
   "outputs": [
    {
     "data": {
      "text/html": [
       "<div>\n",
       "<style scoped>\n",
       "    .dataframe tbody tr th:only-of-type {\n",
       "        vertical-align: middle;\n",
       "    }\n",
       "\n",
       "    .dataframe tbody tr th {\n",
       "        vertical-align: top;\n",
       "    }\n",
       "\n",
       "    .dataframe thead th {\n",
       "        text-align: right;\n",
       "    }\n",
       "</style>\n",
       "<table border=\"1\" class=\"dataframe\">\n",
       "  <thead>\n",
       "    <tr style=\"text-align: right;\">\n",
       "      <th></th>\n",
       "      <th>prdtypecode</th>\n",
       "      <th>nombre_total_produits_no_null</th>\n",
       "      <th>pourcentage_manquant</th>\n",
       "      <th>count</th>\n",
       "    </tr>\n",
       "  </thead>\n",
       "  <tbody>\n",
       "    <tr>\n",
       "      <th>19</th>\n",
       "      <td>2403</td>\n",
       "      <td>126</td>\n",
       "      <td>97.36</td>\n",
       "      <td>4774</td>\n",
       "    </tr>\n",
       "    <tr>\n",
       "      <th>20</th>\n",
       "      <td>2462</td>\n",
       "      <td>53</td>\n",
       "      <td>96.27</td>\n",
       "      <td>1421</td>\n",
       "    </tr>\n",
       "    <tr>\n",
       "      <th>18</th>\n",
       "      <td>2280</td>\n",
       "      <td>320</td>\n",
       "      <td>93.28</td>\n",
       "      <td>4760</td>\n",
       "    </tr>\n",
       "    <tr>\n",
       "      <th>5</th>\n",
       "      <td>1160</td>\n",
       "      <td>349</td>\n",
       "      <td>91.17</td>\n",
       "      <td>3953</td>\n",
       "    </tr>\n",
       "    <tr>\n",
       "      <th>0</th>\n",
       "      <td>10</td>\n",
       "      <td>338</td>\n",
       "      <td>89.15</td>\n",
       "      <td>3116</td>\n",
       "    </tr>\n",
       "    <tr>\n",
       "      <th>6</th>\n",
       "      <td>1180</td>\n",
       "      <td>153</td>\n",
       "      <td>79.97</td>\n",
       "      <td>764</td>\n",
       "    </tr>\n",
       "    <tr>\n",
       "      <th>1</th>\n",
       "      <td>40</td>\n",
       "      <td>866</td>\n",
       "      <td>65.47</td>\n",
       "      <td>2508</td>\n",
       "    </tr>\n",
       "    <tr>\n",
       "      <th>4</th>\n",
       "      <td>1140</td>\n",
       "      <td>945</td>\n",
       "      <td>64.62</td>\n",
       "      <td>2671</td>\n",
       "    </tr>\n",
       "    <tr>\n",
       "      <th>25</th>\n",
       "      <td>2705</td>\n",
       "      <td>1736</td>\n",
       "      <td>37.12</td>\n",
       "      <td>2761</td>\n",
       "    </tr>\n",
       "    <tr>\n",
       "      <th>12</th>\n",
       "      <td>1320</td>\n",
       "      <td>2140</td>\n",
       "      <td>33.97</td>\n",
       "      <td>3241</td>\n",
       "    </tr>\n",
       "    <tr>\n",
       "      <th>2</th>\n",
       "      <td>50</td>\n",
       "      <td>1205</td>\n",
       "      <td>28.32</td>\n",
       "      <td>1681</td>\n",
       "    </tr>\n",
       "    <tr>\n",
       "      <th>21</th>\n",
       "      <td>2522</td>\n",
       "      <td>3800</td>\n",
       "      <td>23.83</td>\n",
       "      <td>4989</td>\n",
       "    </tr>\n",
       "    <tr>\n",
       "      <th>8</th>\n",
       "      <td>1281</td>\n",
       "      <td>1578</td>\n",
       "      <td>23.77</td>\n",
       "      <td>2070</td>\n",
       "    </tr>\n",
       "    <tr>\n",
       "      <th>9</th>\n",
       "      <td>1300</td>\n",
       "      <td>3872</td>\n",
       "      <td>23.25</td>\n",
       "      <td>5045</td>\n",
       "    </tr>\n",
       "    <tr>\n",
       "      <th>7</th>\n",
       "      <td>1280</td>\n",
       "      <td>3802</td>\n",
       "      <td>21.93</td>\n",
       "      <td>4870</td>\n",
       "    </tr>\n",
       "    <tr>\n",
       "      <th>3</th>\n",
       "      <td>60</td>\n",
       "      <td>699</td>\n",
       "      <td>15.99</td>\n",
       "      <td>832</td>\n",
       "    </tr>\n",
       "    <tr>\n",
       "      <th>10</th>\n",
       "      <td>1301</td>\n",
       "      <td>702</td>\n",
       "      <td>13.01</td>\n",
       "      <td>807</td>\n",
       "    </tr>\n",
       "    <tr>\n",
       "      <th>11</th>\n",
       "      <td>1302</td>\n",
       "      <td>2214</td>\n",
       "      <td>11.12</td>\n",
       "      <td>2491</td>\n",
       "    </tr>\n",
       "    <tr>\n",
       "      <th>23</th>\n",
       "      <td>2583</td>\n",
       "      <td>9306</td>\n",
       "      <td>8.85</td>\n",
       "      <td>10209</td>\n",
       "    </tr>\n",
       "    <tr>\n",
       "      <th>17</th>\n",
       "      <td>2220</td>\n",
       "      <td>758</td>\n",
       "      <td>8.01</td>\n",
       "      <td>824</td>\n",
       "    </tr>\n",
       "    <tr>\n",
       "      <th>24</th>\n",
       "      <td>2585</td>\n",
       "      <td>2298</td>\n",
       "      <td>7.93</td>\n",
       "      <td>2496</td>\n",
       "    </tr>\n",
       "    <tr>\n",
       "      <th>16</th>\n",
       "      <td>2060</td>\n",
       "      <td>4707</td>\n",
       "      <td>5.73</td>\n",
       "      <td>4993</td>\n",
       "    </tr>\n",
       "    <tr>\n",
       "      <th>15</th>\n",
       "      <td>1940</td>\n",
       "      <td>758</td>\n",
       "      <td>5.60</td>\n",
       "      <td>803</td>\n",
       "    </tr>\n",
       "    <tr>\n",
       "      <th>14</th>\n",
       "      <td>1920</td>\n",
       "      <td>4096</td>\n",
       "      <td>4.81</td>\n",
       "      <td>4303</td>\n",
       "    </tr>\n",
       "    <tr>\n",
       "      <th>13</th>\n",
       "      <td>1560</td>\n",
       "      <td>4896</td>\n",
       "      <td>3.49</td>\n",
       "      <td>5073</td>\n",
       "    </tr>\n",
       "    <tr>\n",
       "      <th>22</th>\n",
       "      <td>2582</td>\n",
       "      <td>2527</td>\n",
       "      <td>2.39</td>\n",
       "      <td>2589</td>\n",
       "    </tr>\n",
       "    <tr>\n",
       "      <th>26</th>\n",
       "      <td>2905</td>\n",
       "      <td>872</td>\n",
       "      <td>0.00</td>\n",
       "      <td>872</td>\n",
       "    </tr>\n",
       "  </tbody>\n",
       "</table>\n",
       "</div>"
      ],
      "text/plain": [
       "    prdtypecode  nombre_total_produits_no_null  pourcentage_manquant  count\n",
       "19         2403                            126                 97.36   4774\n",
       "20         2462                             53                 96.27   1421\n",
       "18         2280                            320                 93.28   4760\n",
       "5          1160                            349                 91.17   3953\n",
       "0            10                            338                 89.15   3116\n",
       "6          1180                            153                 79.97    764\n",
       "1            40                            866                 65.47   2508\n",
       "4          1140                            945                 64.62   2671\n",
       "25         2705                           1736                 37.12   2761\n",
       "12         1320                           2140                 33.97   3241\n",
       "2            50                           1205                 28.32   1681\n",
       "21         2522                           3800                 23.83   4989\n",
       "8          1281                           1578                 23.77   2070\n",
       "9          1300                           3872                 23.25   5045\n",
       "7          1280                           3802                 21.93   4870\n",
       "3            60                            699                 15.99    832\n",
       "10         1301                            702                 13.01    807\n",
       "11         1302                           2214                 11.12   2491\n",
       "23         2583                           9306                  8.85  10209\n",
       "17         2220                            758                  8.01    824\n",
       "24         2585                           2298                  7.93   2496\n",
       "16         2060                           4707                  5.73   4993\n",
       "15         1940                            758                  5.60    803\n",
       "14         1920                           4096                  4.81   4303\n",
       "13         1560                           4896                  3.49   5073\n",
       "22         2582                           2527                  2.39   2589\n",
       "26         2905                            872                  0.00    872"
      ]
     },
     "execution_count": 15,
     "metadata": {},
     "output_type": "execute_result"
    }
   ],
   "source": [
    "# Calculer le nombre total de produits pour chaque type de produit\n",
    "nombre_total_produits = merged_df.groupby('prdtypecode')['description'].count()\n",
    "\n",
    "# Calculer le nombre de descriptions manquantes pour chaque type de produit\n",
    "nombre_manquant = merged_df.groupby('prdtypecode')['description'].apply(lambda x: x.isnull().sum())\n",
    "\n",
    "# Calculer le pourcentage de descriptions manquantes\n",
    "pourcentage_manquant = (nombre_manquant / (nombre_total_produits + nombre_manquant)) * 100\n",
    "\n",
    "# Convertir en DataFrame\n",
    "resultat_df = pd.DataFrame({\n",
    "    'nombre_total_produits_no_null': nombre_total_produits.values,\n",
    "    'pourcentage_manquant': pourcentage_manquant.round(2)\n",
    "})\n",
    "\n",
    "resultat_df = resultat_df.reset_index()\n",
    "resultat_df = pd.merge(resultat_df, type_counts, on='prdtypecode', how='left')\n",
    "\n",
    "# Afficher le DataFrame final\n",
    "resultat_df.sort_values(by='pourcentage_manquant', ascending=False)"
   ]
  },
  {
   "cell_type": "markdown",
   "id": "ab777143",
   "metadata": {},
   "source": [
    "Que la description soit manquante ou non, nous indique clairement quelque chose. Il serait judicieux de ne pas supprimer ces données par la suite. Une idée serait de rendre cette information binaire : 0 si il n'y pas de description, 1 sinon."
   ]
  },
  {
   "cell_type": "markdown",
   "id": "efa71f6c",
   "metadata": {},
   "source": [
    "# idée de graphiques\n",
    "\n",
    "- "
   ]
  },
  {
   "cell_type": "code",
   "execution_count": null,
   "id": "02028e76",
   "metadata": {},
   "outputs": [],
   "source": []
  },
  {
   "cell_type": "code",
   "execution_count": null,
   "id": "8e19135c",
   "metadata": {},
   "outputs": [],
   "source": []
  },
  {
   "cell_type": "code",
   "execution_count": null,
   "id": "2ba664cc",
   "metadata": {},
   "outputs": [],
   "source": []
  }
 ],
 "metadata": {
  "kernelspec": {
   "display_name": "Python 3 (ipykernel)",
   "language": "python",
   "name": "python3"
  },
  "language_info": {
   "codemirror_mode": {
    "name": "ipython",
    "version": 3
   },
   "file_extension": ".py",
   "mimetype": "text/x-python",
   "name": "python",
   "nbconvert_exporter": "python",
   "pygments_lexer": "ipython3",
   "version": "3.11.5"
  }
 },
 "nbformat": 4,
 "nbformat_minor": 5
}
